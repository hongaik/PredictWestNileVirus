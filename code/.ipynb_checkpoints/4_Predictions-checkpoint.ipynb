{
 "cells": [
  {
   "cell_type": "markdown",
   "metadata": {},
   "source": [
    "<img src=\"http://imgur.com/1ZcRyrc.png\" style=\"float: left; margin: 20px; height: 55px\">\n",
    "\n",
    "# Project 4: Predicting West Nile Virus in Mosquitoes"
   ]
  },
  {
   "cell_type": "code",
   "execution_count": 1,
   "metadata": {},
   "outputs": [],
   "source": [
    "import requests\n",
    "import pandas as pd\n",
    "import numpy as np\n",
    "import matplotlib.pyplot as plt\n",
    "import time\n",
    "import re\n",
    "import datetime\n",
    "import random\n",
    "import pickle\n",
    "import geopandas as gpd\n",
    "from shapely.geometry import Point, Polygon\n",
    "from matplotlib import dates, cm\n",
    "from sklearn.compose import ColumnTransformer\n",
    "from sklearn.preprocessing import StandardScaler\n",
    "from geopy.distance import geodesic\n",
    "\n",
    "pd.set_option('display.max_columns', 50)\n",
    "pd.options.mode.chained_assignment = None  # default='warn'"
   ]
  },
  {
   "cell_type": "markdown",
   "metadata": {},
   "source": [
    "# Read in data files"
   ]
  },
  {
   "cell_type": "code",
   "execution_count": 2,
   "metadata": {},
   "outputs": [
    {
     "data": {
      "text/html": [
       "<div>\n",
       "<style scoped>\n",
       "    .dataframe tbody tr th:only-of-type {\n",
       "        vertical-align: middle;\n",
       "    }\n",
       "\n",
       "    .dataframe tbody tr th {\n",
       "        vertical-align: top;\n",
       "    }\n",
       "\n",
       "    .dataframe thead th {\n",
       "        text-align: right;\n",
       "    }\n",
       "</style>\n",
       "<table border=\"1\" class=\"dataframe\">\n",
       "  <thead>\n",
       "    <tr style=\"text-align: right;\">\n",
       "      <th></th>\n",
       "      <th>Id</th>\n",
       "      <th>Date</th>\n",
       "      <th>Address</th>\n",
       "      <th>Species</th>\n",
       "      <th>Block</th>\n",
       "      <th>Street</th>\n",
       "      <th>Trap</th>\n",
       "      <th>AddressNumberAndStreet</th>\n",
       "      <th>Latitude</th>\n",
       "      <th>Longitude</th>\n",
       "      <th>AddressAccuracy</th>\n",
       "    </tr>\n",
       "  </thead>\n",
       "  <tbody>\n",
       "    <tr>\n",
       "      <th>0</th>\n",
       "      <td>1</td>\n",
       "      <td>2008-06-11</td>\n",
       "      <td>4100 North Oak Park Avenue, Chicago, IL 60634,...</td>\n",
       "      <td>CULEX PIPIENS/RESTUANS</td>\n",
       "      <td>41</td>\n",
       "      <td>N OAK PARK AVE</td>\n",
       "      <td>T002</td>\n",
       "      <td>4100  N OAK PARK AVE, Chicago, IL</td>\n",
       "      <td>41.95469</td>\n",
       "      <td>-87.800991</td>\n",
       "      <td>9</td>\n",
       "    </tr>\n",
       "    <tr>\n",
       "      <th>1</th>\n",
       "      <td>2</td>\n",
       "      <td>2008-06-11</td>\n",
       "      <td>4100 North Oak Park Avenue, Chicago, IL 60634,...</td>\n",
       "      <td>CULEX RESTUANS</td>\n",
       "      <td>41</td>\n",
       "      <td>N OAK PARK AVE</td>\n",
       "      <td>T002</td>\n",
       "      <td>4100  N OAK PARK AVE, Chicago, IL</td>\n",
       "      <td>41.95469</td>\n",
       "      <td>-87.800991</td>\n",
       "      <td>9</td>\n",
       "    </tr>\n",
       "  </tbody>\n",
       "</table>\n",
       "</div>"
      ],
      "text/plain": [
       "   Id        Date                                            Address  \\\n",
       "0   1  2008-06-11  4100 North Oak Park Avenue, Chicago, IL 60634,...   \n",
       "1   2  2008-06-11  4100 North Oak Park Avenue, Chicago, IL 60634,...   \n",
       "\n",
       "                  Species  Block           Street  Trap  \\\n",
       "0  CULEX PIPIENS/RESTUANS     41   N OAK PARK AVE  T002   \n",
       "1          CULEX RESTUANS     41   N OAK PARK AVE  T002   \n",
       "\n",
       "              AddressNumberAndStreet  Latitude  Longitude  AddressAccuracy  \n",
       "0  4100  N OAK PARK AVE, Chicago, IL  41.95469 -87.800991                9  \n",
       "1  4100  N OAK PARK AVE, Chicago, IL  41.95469 -87.800991                9  "
      ]
     },
     "execution_count": 2,
     "metadata": {},
     "output_type": "execute_result"
    }
   ],
   "source": [
    "test = pd.read_csv('../assets/test.csv/test.csv')\n",
    "test.head(2)"
   ]
  },
  {
   "cell_type": "code",
   "execution_count": 3,
   "metadata": {},
   "outputs": [
    {
     "data": {
      "text/html": [
       "<div>\n",
       "<style scoped>\n",
       "    .dataframe tbody tr th:only-of-type {\n",
       "        vertical-align: middle;\n",
       "    }\n",
       "\n",
       "    .dataframe tbody tr th {\n",
       "        vertical-align: top;\n",
       "    }\n",
       "\n",
       "    .dataframe thead th {\n",
       "        text-align: right;\n",
       "    }\n",
       "</style>\n",
       "<table border=\"1\" class=\"dataframe\">\n",
       "  <thead>\n",
       "    <tr style=\"text-align: right;\">\n",
       "      <th></th>\n",
       "      <th>Latitude</th>\n",
       "      <th>Longitude</th>\n",
       "      <th>lat_long</th>\n",
       "    </tr>\n",
       "  </thead>\n",
       "  <tbody>\n",
       "    <tr>\n",
       "      <th>0</th>\n",
       "      <td>41.981433</td>\n",
       "      <td>-87.787777</td>\n",
       "      <td>(41.9814333333333, -87.7877766666667)</td>\n",
       "    </tr>\n",
       "    <tr>\n",
       "      <th>1</th>\n",
       "      <td>41.980998</td>\n",
       "      <td>-87.787778</td>\n",
       "      <td>(41.9809983333333, -87.7877783333333)</td>\n",
       "    </tr>\n",
       "    <tr>\n",
       "      <th>2</th>\n",
       "      <td>41.980560</td>\n",
       "      <td>-87.787762</td>\n",
       "      <td>(41.98056, -87.7877616666667)</td>\n",
       "    </tr>\n",
       "    <tr>\n",
       "      <th>3</th>\n",
       "      <td>41.980198</td>\n",
       "      <td>-87.787758</td>\n",
       "      <td>(41.9801983333333, -87.7877583333333)</td>\n",
       "    </tr>\n",
       "    <tr>\n",
       "      <th>4</th>\n",
       "      <td>41.979752</td>\n",
       "      <td>-87.787765</td>\n",
       "      <td>(41.9797516666667, -87.787765)</td>\n",
       "    </tr>\n",
       "  </tbody>\n",
       "</table>\n",
       "</div>"
      ],
      "text/plain": [
       "    Latitude  Longitude                               lat_long\n",
       "0  41.981433 -87.787777  (41.9814333333333, -87.7877766666667)\n",
       "1  41.980998 -87.787778  (41.9809983333333, -87.7877783333333)\n",
       "2  41.980560 -87.787762          (41.98056, -87.7877616666667)\n",
       "3  41.980198 -87.787758  (41.9801983333333, -87.7877583333333)\n",
       "4  41.979752 -87.787765         (41.9797516666667, -87.787765)"
      ]
     },
     "execution_count": 3,
     "metadata": {},
     "output_type": "execute_result"
    }
   ],
   "source": [
    "spray = pd.read_csv('../assets/processed_data/spray_processed.csv')\n",
    "spray['lat_long'] = list(zip(spray['Latitude'], spray['Longitude'])) # to compute distances later\n",
    "spray.head()"
   ]
  },
  {
   "cell_type": "code",
   "execution_count": 4,
   "metadata": {},
   "outputs": [
    {
     "name": "stdout",
     "output_type": "stream",
     "text": [
      "<class 'pandas.core.frame.DataFrame'>\n",
      "RangeIndex: 14199 entries, 0 to 14198\n",
      "Data columns (total 3 columns):\n",
      " #   Column     Non-Null Count  Dtype  \n",
      "---  ------     --------------  -----  \n",
      " 0   Latitude   14199 non-null  float64\n",
      " 1   Longitude  14199 non-null  float64\n",
      " 2   lat_long   14199 non-null  object \n",
      "dtypes: float64(2), object(1)\n",
      "memory usage: 332.9+ KB\n"
     ]
    }
   ],
   "source": [
    "spray.info()"
   ]
  },
  {
   "cell_type": "code",
   "execution_count": 5,
   "metadata": {},
   "outputs": [
    {
     "data": {
      "text/html": [
       "<div>\n",
       "<style scoped>\n",
       "    .dataframe tbody tr th:only-of-type {\n",
       "        vertical-align: middle;\n",
       "    }\n",
       "\n",
       "    .dataframe tbody tr th {\n",
       "        vertical-align: top;\n",
       "    }\n",
       "\n",
       "    .dataframe thead th {\n",
       "        text-align: right;\n",
       "    }\n",
       "</style>\n",
       "<table border=\"1\" class=\"dataframe\">\n",
       "  <thead>\n",
       "    <tr style=\"text-align: right;\">\n",
       "      <th></th>\n",
       "      <th>Date</th>\n",
       "      <th>Tavg</th>\n",
       "      <th>DewPoint</th>\n",
       "      <th>WetBulb</th>\n",
       "      <th>PrecipTotal</th>\n",
       "      <th>AvgSpeed</th>\n",
       "    </tr>\n",
       "  </thead>\n",
       "  <tbody>\n",
       "    <tr>\n",
       "      <th>0</th>\n",
       "      <td>2007-05-01</td>\n",
       "      <td>67.50</td>\n",
       "      <td>51.0</td>\n",
       "      <td>56.5</td>\n",
       "      <td>0.0</td>\n",
       "      <td>9.40</td>\n",
       "    </tr>\n",
       "    <tr>\n",
       "      <th>1</th>\n",
       "      <td>2007-05-02</td>\n",
       "      <td>51.50</td>\n",
       "      <td>42.0</td>\n",
       "      <td>47.0</td>\n",
       "      <td>0.0</td>\n",
       "      <td>13.40</td>\n",
       "    </tr>\n",
       "    <tr>\n",
       "      <th>2</th>\n",
       "      <td>2007-05-03</td>\n",
       "      <td>57.00</td>\n",
       "      <td>40.0</td>\n",
       "      <td>49.0</td>\n",
       "      <td>0.0</td>\n",
       "      <td>12.55</td>\n",
       "    </tr>\n",
       "    <tr>\n",
       "      <th>3</th>\n",
       "      <td>2007-05-04</td>\n",
       "      <td>61.25</td>\n",
       "      <td>41.5</td>\n",
       "      <td>50.0</td>\n",
       "      <td>0.0</td>\n",
       "      <td>10.60</td>\n",
       "    </tr>\n",
       "    <tr>\n",
       "      <th>4</th>\n",
       "      <td>2007-05-05</td>\n",
       "      <td>60.00</td>\n",
       "      <td>38.5</td>\n",
       "      <td>49.5</td>\n",
       "      <td>0.0</td>\n",
       "      <td>11.75</td>\n",
       "    </tr>\n",
       "  </tbody>\n",
       "</table>\n",
       "</div>"
      ],
      "text/plain": [
       "        Date   Tavg  DewPoint  WetBulb  PrecipTotal  AvgSpeed\n",
       "0 2007-05-01  67.50      51.0     56.5          0.0      9.40\n",
       "1 2007-05-02  51.50      42.0     47.0          0.0     13.40\n",
       "2 2007-05-03  57.00      40.0     49.0          0.0     12.55\n",
       "3 2007-05-04  61.25      41.5     50.0          0.0     10.60\n",
       "4 2007-05-05  60.00      38.5     49.5          0.0     11.75"
      ]
     },
     "execution_count": 5,
     "metadata": {},
     "output_type": "execute_result"
    }
   ],
   "source": [
    "weather = pd.read_csv('../assets/processed_data/weather_processed.csv')\n",
    "weather['Date'] = pd.to_datetime(weather['Date'])\n",
    "weather.head()"
   ]
  },
  {
   "cell_type": "code",
   "execution_count": 6,
   "metadata": {},
   "outputs": [
    {
     "name": "stdout",
     "output_type": "stream",
     "text": [
      "<class 'pandas.core.frame.DataFrame'>\n",
      "RangeIndex: 1472 entries, 0 to 1471\n",
      "Data columns (total 6 columns):\n",
      " #   Column       Non-Null Count  Dtype         \n",
      "---  ------       --------------  -----         \n",
      " 0   Date         1472 non-null   datetime64[ns]\n",
      " 1   Tavg         1472 non-null   float64       \n",
      " 2   DewPoint     1472 non-null   float64       \n",
      " 3   WetBulb      1472 non-null   float64       \n",
      " 4   PrecipTotal  1472 non-null   float64       \n",
      " 5   AvgSpeed     1472 non-null   float64       \n",
      "dtypes: datetime64[ns](1), float64(5)\n",
      "memory usage: 69.1 KB\n"
     ]
    }
   ],
   "source": [
    "weather.info()"
   ]
  },
  {
   "cell_type": "code",
   "execution_count": 7,
   "metadata": {},
   "outputs": [
    {
     "name": "stdout",
     "output_type": "stream",
     "text": [
      "<class 'pandas.core.frame.DataFrame'>\n",
      "RangeIndex: 343 entries, 0 to 342\n",
      "Data columns (total 3 columns):\n",
      " #   Column       Non-Null Count  Dtype \n",
      "---  ------       --------------  ----- \n",
      " 0   year         343 non-null    int64 \n",
      " 1   Address      343 non-null    object\n",
      " 2   wnv_density  343 non-null    int64 \n",
      "dtypes: int64(2), object(1)\n",
      "memory usage: 8.2+ KB\n"
     ]
    }
   ],
   "source": [
    "wnv_density = pd.read_csv('../assets/processed_data/wnv_density_processed.csv')\n",
    "wnv_density.columns = ['year', 'Address', 'wnv_density']\n",
    "wnv_density.info()"
   ]
  },
  {
   "cell_type": "code",
   "execution_count": 8,
   "metadata": {},
   "outputs": [],
   "source": [
    "ada_final = pickle.load(open('../models/adaboost_tuned.sav', 'rb'))"
   ]
  },
  {
   "cell_type": "code",
   "execution_count": 9,
   "metadata": {},
   "outputs": [],
   "source": [
    "X_train = pd.read_csv('../assets/processed_data/X_train_processed.csv')"
   ]
  },
  {
   "cell_type": "code",
   "execution_count": 10,
   "metadata": {},
   "outputs": [],
   "source": [
    "# Fit the on the same training data as during Modeling to get the same weights. This will be used to transform the test dataset\n",
    "\n",
    "ct = ColumnTransformer(\n",
    "        [(\"stdscaler\", StandardScaler(), ['wnv_density', 'avg_temp', 'tot_precip', 'avg_windspeed'])], remainder='passthrough')\n",
    "\n",
    "X_train = ct.fit_transform(X_train)"
   ]
  },
  {
   "cell_type": "markdown",
   "metadata": {},
   "source": [
    "# Engineer Features"
   ]
  },
  {
   "cell_type": "code",
   "execution_count": 11,
   "metadata": {},
   "outputs": [],
   "source": [
    "test['Date'] = pd.to_datetime(test['Date'])\n",
    "test['month'] = test['Date'].dt.month\n",
    "test['year'] = test['Date'].dt.year - 1 # preceding year"
   ]
  },
  {
   "cell_type": "code",
   "execution_count": 12,
   "metadata": {},
   "outputs": [
    {
     "name": "stdout",
     "output_type": "stream",
     "text": [
      "<class 'pandas.core.frame.DataFrame'>\n",
      "Int64Index: 116293 entries, 0 to 116292\n",
      "Data columns (total 14 columns):\n",
      " #   Column                  Non-Null Count   Dtype         \n",
      "---  ------                  --------------   -----         \n",
      " 0   Id                      116293 non-null  int64         \n",
      " 1   Date                    116293 non-null  datetime64[ns]\n",
      " 2   Address                 116293 non-null  object        \n",
      " 3   Species                 116293 non-null  object        \n",
      " 4   Block                   116293 non-null  int64         \n",
      " 5   Street                  116293 non-null  object        \n",
      " 6   Trap                    116293 non-null  object        \n",
      " 7   AddressNumberAndStreet  116293 non-null  object        \n",
      " 8   Latitude                116293 non-null  float64       \n",
      " 9   Longitude               116293 non-null  float64       \n",
      " 10  AddressAccuracy         116293 non-null  int64         \n",
      " 11  month                   116293 non-null  int64         \n",
      " 12  year                    116293 non-null  int64         \n",
      " 13  wnv_density             66837 non-null   float64       \n",
      "dtypes: datetime64[ns](1), float64(3), int64(5), object(5)\n",
      "memory usage: 13.3+ MB\n"
     ]
    }
   ],
   "source": [
    "# Merge in wnv density data on year and trap address\n",
    "test_wnv = test.merge(wnv_density, how='left', left_on = ['year', 'Address'], right_on = ['year', 'Address'])\n",
    "test_wnv.info()"
   ]
  },
  {
   "cell_type": "code",
   "execution_count": 13,
   "metadata": {},
   "outputs": [],
   "source": [
    "test_wnv.fillna(0, inplace=True) # fill with 0 for those rows with no match"
   ]
  },
  {
   "cell_type": "code",
   "execution_count": 14,
   "metadata": {},
   "outputs": [],
   "source": [
    "# define function to check whether two lat-long coordinates are within 50 metres. Output 1 if so, else 0\n",
    "\n",
    "def check_within_50m(coord):\n",
    "    \n",
    "    for spray_coord in spray['lat_long']:\n",
    "        if geodesic(coord, spray_coord).meters <= 50:\n",
    "            return 1\n",
    "    return 0"
   ]
  },
  {
   "cell_type": "code",
   "execution_count": 15,
   "metadata": {},
   "outputs": [],
   "source": [
    "# To reduce computing time, we first take all distinct lat-long combinations to compute distances, since there are many repeat locations in the train dataset\n",
    "\n",
    "test_latlong = test[['Latitude', 'Longitude']].drop_duplicates(subset=['Latitude', 'Longitude']).reset_index(drop=True)\n",
    "test_latlong['lat_long'] = list(zip(test_latlong['Latitude'], test_latlong['Longitude']))"
   ]
  },
  {
   "cell_type": "code",
   "execution_count": 16,
   "metadata": {},
   "outputs": [
    {
     "data": {
      "text/html": [
       "<div>\n",
       "<style scoped>\n",
       "    .dataframe tbody tr th:only-of-type {\n",
       "        vertical-align: middle;\n",
       "    }\n",
       "\n",
       "    .dataframe tbody tr th {\n",
       "        vertical-align: top;\n",
       "    }\n",
       "\n",
       "    .dataframe thead th {\n",
       "        text-align: right;\n",
       "    }\n",
       "</style>\n",
       "<table border=\"1\" class=\"dataframe\">\n",
       "  <thead>\n",
       "    <tr style=\"text-align: right;\">\n",
       "      <th></th>\n",
       "      <th>Latitude</th>\n",
       "      <th>Longitude</th>\n",
       "      <th>lat_long</th>\n",
       "    </tr>\n",
       "  </thead>\n",
       "  <tbody>\n",
       "    <tr>\n",
       "      <th>0</th>\n",
       "      <td>41.95469</td>\n",
       "      <td>-87.800991</td>\n",
       "      <td>(41.95469, -87.800991)</td>\n",
       "    </tr>\n",
       "  </tbody>\n",
       "</table>\n",
       "</div>"
      ],
      "text/plain": [
       "   Latitude  Longitude                lat_long\n",
       "0  41.95469 -87.800991  (41.95469, -87.800991)"
      ]
     },
     "execution_count": 16,
     "metadata": {},
     "output_type": "execute_result"
    }
   ],
   "source": [
    "test_latlong.head(1)"
   ]
  },
  {
   "cell_type": "code",
   "execution_count": 17,
   "metadata": {},
   "outputs": [],
   "source": [
    "# Takes awhile to run\n",
    "test_latlong['spray_indicator'] = test_latlong['lat_long'].apply(check_within_50m)"
   ]
  },
  {
   "cell_type": "code",
   "execution_count": 18,
   "metadata": {},
   "outputs": [
    {
     "data": {
      "text/plain": [
       "0    130\n",
       "1     21\n",
       "Name: spray_indicator, dtype: int64"
      ]
     },
     "execution_count": 18,
     "metadata": {},
     "output_type": "execute_result"
    }
   ],
   "source": [
    "test_latlong.spray_indicator.value_counts()"
   ]
  },
  {
   "cell_type": "code",
   "execution_count": 19,
   "metadata": {},
   "outputs": [
    {
     "name": "stdout",
     "output_type": "stream",
     "text": [
      "<class 'pandas.core.frame.DataFrame'>\n",
      "Int64Index: 116293 entries, 0 to 116292\n",
      "Data columns (total 16 columns):\n",
      " #   Column                  Non-Null Count   Dtype         \n",
      "---  ------                  --------------   -----         \n",
      " 0   Id                      116293 non-null  int64         \n",
      " 1   Date                    116293 non-null  datetime64[ns]\n",
      " 2   Address                 116293 non-null  object        \n",
      " 3   Species                 116293 non-null  object        \n",
      " 4   Block                   116293 non-null  int64         \n",
      " 5   Street                  116293 non-null  object        \n",
      " 6   Trap                    116293 non-null  object        \n",
      " 7   AddressNumberAndStreet  116293 non-null  object        \n",
      " 8   Latitude                116293 non-null  float64       \n",
      " 9   Longitude               116293 non-null  float64       \n",
      " 10  AddressAccuracy         116293 non-null  int64         \n",
      " 11  month                   116293 non-null  int64         \n",
      " 12  year                    116293 non-null  int64         \n",
      " 13  wnv_density             116293 non-null  float64       \n",
      " 14  lat_long                116293 non-null  object        \n",
      " 15  spray_indicator         116293 non-null  int64         \n",
      "dtypes: datetime64[ns](1), float64(3), int64(6), object(6)\n",
      "memory usage: 15.1+ MB\n"
     ]
    }
   ],
   "source": [
    "test_wnv_spray = test_wnv.merge(test_latlong, how='left', left_on = ['Latitude', 'Longitude'], right_on = ['Latitude', 'Longitude'])\n",
    "test_wnv_spray.info()"
   ]
  },
  {
   "cell_type": "code",
   "execution_count": 20,
   "metadata": {},
   "outputs": [],
   "source": [
    "def get_weather(ls_date):\n",
    "    '''\n",
    "    This function takes in a list of dates and returns the preceding 30-day averages of 5 weather indicators: temperature, dew point, wetbulb,\n",
    "    precipitation (total instead of average), wind speed.\n",
    "    \n",
    "    Returns one list for each indicator.\n",
    "    '''\n",
    "    temp_list = []\n",
    "    dewpt_list = []\n",
    "    wetbulb_list = []\n",
    "    precip_list = []\n",
    "    windspeed_list = []\n",
    "    \n",
    "    for date in ls_date:\n",
    "        date = pd.to_datetime(date)\n",
    "        weather_subset = weather[(weather['Date'] <= date + pd.Timedelta(days=-1)) & (weather['Date'] >= date + pd.Timedelta(days=-31))]\n",
    "        \n",
    "        temp_list.append(weather_subset['Tavg'].mean())\n",
    "        dewpt_list.append(weather_subset['DewPoint'].mean())\n",
    "        wetbulb_list.append(weather_subset['WetBulb'].mean())\n",
    "        precip_list.append(weather_subset['PrecipTotal'].sum())\n",
    "        windspeed_list.append(weather_subset['AvgSpeed'].mean())\n",
    "\n",
    "    return temp_list, dewpt_list, wetbulb_list, precip_list, windspeed_list"
   ]
  },
  {
   "cell_type": "code",
   "execution_count": 21,
   "metadata": {
    "scrolled": true,
    "tags": []
   },
   "outputs": [],
   "source": [
    "avg_temp, avg_dewpt, avg_wetbulb, tot_precip, avg_windspeed = get_weather(test_wnv_spray['Date'])"
   ]
  },
  {
   "cell_type": "code",
   "execution_count": 22,
   "metadata": {},
   "outputs": [],
   "source": [
    "test_wnv_spray['avg_temp'] = avg_temp\n",
    "test_wnv_spray['avg_dewpt'] = avg_dewpt\n",
    "test_wnv_spray['avg_wetbulb'] = avg_wetbulb\n",
    "test_wnv_spray['tot_precip'] = tot_precip\n",
    "test_wnv_spray['avg_windspeed'] = avg_windspeed"
   ]
  },
  {
   "cell_type": "code",
   "execution_count": 23,
   "metadata": {},
   "outputs": [
    {
     "name": "stdout",
     "output_type": "stream",
     "text": [
      "<class 'pandas.core.frame.DataFrame'>\n",
      "Int64Index: 116293 entries, 0 to 116292\n",
      "Data columns (total 21 columns):\n",
      " #   Column                  Non-Null Count   Dtype         \n",
      "---  ------                  --------------   -----         \n",
      " 0   Id                      116293 non-null  int64         \n",
      " 1   Date                    116293 non-null  datetime64[ns]\n",
      " 2   Address                 116293 non-null  object        \n",
      " 3   Species                 116293 non-null  object        \n",
      " 4   Block                   116293 non-null  int64         \n",
      " 5   Street                  116293 non-null  object        \n",
      " 6   Trap                    116293 non-null  object        \n",
      " 7   AddressNumberAndStreet  116293 non-null  object        \n",
      " 8   Latitude                116293 non-null  float64       \n",
      " 9   Longitude               116293 non-null  float64       \n",
      " 10  AddressAccuracy         116293 non-null  int64         \n",
      " 11  month                   116293 non-null  int64         \n",
      " 12  year                    116293 non-null  int64         \n",
      " 13  wnv_density             116293 non-null  float64       \n",
      " 14  lat_long                116293 non-null  object        \n",
      " 15  spray_indicator         116293 non-null  int64         \n",
      " 16  avg_temp                116293 non-null  float64       \n",
      " 17  avg_dewpt               116293 non-null  float64       \n",
      " 18  avg_wetbulb             116293 non-null  float64       \n",
      " 19  tot_precip              116293 non-null  float64       \n",
      " 20  avg_windspeed           116293 non-null  float64       \n",
      "dtypes: datetime64[ns](1), float64(8), int64(6), object(6)\n",
      "memory usage: 19.5+ MB\n"
     ]
    }
   ],
   "source": [
    "test_wnv_spray.info()"
   ]
  },
  {
   "cell_type": "code",
   "execution_count": 24,
   "metadata": {},
   "outputs": [
    {
     "data": {
      "text/html": [
       "<div>\n",
       "<style scoped>\n",
       "    .dataframe tbody tr th:only-of-type {\n",
       "        vertical-align: middle;\n",
       "    }\n",
       "\n",
       "    .dataframe tbody tr th {\n",
       "        vertical-align: top;\n",
       "    }\n",
       "\n",
       "    .dataframe thead th {\n",
       "        text-align: right;\n",
       "    }\n",
       "</style>\n",
       "<table border=\"1\" class=\"dataframe\">\n",
       "  <thead>\n",
       "    <tr style=\"text-align: right;\">\n",
       "      <th></th>\n",
       "      <th>Id</th>\n",
       "      <th>Date</th>\n",
       "      <th>Address</th>\n",
       "      <th>Species</th>\n",
       "      <th>Block</th>\n",
       "      <th>Street</th>\n",
       "      <th>Trap</th>\n",
       "      <th>AddressNumberAndStreet</th>\n",
       "      <th>Latitude</th>\n",
       "      <th>Longitude</th>\n",
       "      <th>AddressAccuracy</th>\n",
       "      <th>month</th>\n",
       "      <th>year</th>\n",
       "      <th>wnv_density</th>\n",
       "      <th>lat_long</th>\n",
       "      <th>spray_indicator</th>\n",
       "      <th>avg_temp</th>\n",
       "      <th>avg_dewpt</th>\n",
       "      <th>avg_wetbulb</th>\n",
       "      <th>tot_precip</th>\n",
       "      <th>avg_windspeed</th>\n",
       "    </tr>\n",
       "  </thead>\n",
       "  <tbody>\n",
       "    <tr>\n",
       "      <th>0</th>\n",
       "      <td>1</td>\n",
       "      <td>2008-06-11</td>\n",
       "      <td>4100 North Oak Park Avenue, Chicago, IL 60634,...</td>\n",
       "      <td>CULEX PIPIENS/RESTUANS</td>\n",
       "      <td>41</td>\n",
       "      <td>N OAK PARK AVE</td>\n",
       "      <td>T002</td>\n",
       "      <td>4100  N OAK PARK AVE, Chicago, IL</td>\n",
       "      <td>41.95469</td>\n",
       "      <td>-87.800991</td>\n",
       "      <td>9</td>\n",
       "      <td>6</td>\n",
       "      <td>2007</td>\n",
       "      <td>8.0</td>\n",
       "      <td>(41.95469, -87.800991)</td>\n",
       "      <td>0</td>\n",
       "      <td>61.064516</td>\n",
       "      <td>48.387097</td>\n",
       "      <td>54.596774</td>\n",
       "      <td>4.97</td>\n",
       "      <td>10.340323</td>\n",
       "    </tr>\n",
       "    <tr>\n",
       "      <th>1</th>\n",
       "      <td>2</td>\n",
       "      <td>2008-06-11</td>\n",
       "      <td>4100 North Oak Park Avenue, Chicago, IL 60634,...</td>\n",
       "      <td>CULEX RESTUANS</td>\n",
       "      <td>41</td>\n",
       "      <td>N OAK PARK AVE</td>\n",
       "      <td>T002</td>\n",
       "      <td>4100  N OAK PARK AVE, Chicago, IL</td>\n",
       "      <td>41.95469</td>\n",
       "      <td>-87.800991</td>\n",
       "      <td>9</td>\n",
       "      <td>6</td>\n",
       "      <td>2007</td>\n",
       "      <td>8.0</td>\n",
       "      <td>(41.95469, -87.800991)</td>\n",
       "      <td>0</td>\n",
       "      <td>61.064516</td>\n",
       "      <td>48.387097</td>\n",
       "      <td>54.596774</td>\n",
       "      <td>4.97</td>\n",
       "      <td>10.340323</td>\n",
       "    </tr>\n",
       "    <tr>\n",
       "      <th>2</th>\n",
       "      <td>3</td>\n",
       "      <td>2008-06-11</td>\n",
       "      <td>4100 North Oak Park Avenue, Chicago, IL 60634,...</td>\n",
       "      <td>CULEX PIPIENS</td>\n",
       "      <td>41</td>\n",
       "      <td>N OAK PARK AVE</td>\n",
       "      <td>T002</td>\n",
       "      <td>4100  N OAK PARK AVE, Chicago, IL</td>\n",
       "      <td>41.95469</td>\n",
       "      <td>-87.800991</td>\n",
       "      <td>9</td>\n",
       "      <td>6</td>\n",
       "      <td>2007</td>\n",
       "      <td>8.0</td>\n",
       "      <td>(41.95469, -87.800991)</td>\n",
       "      <td>0</td>\n",
       "      <td>61.064516</td>\n",
       "      <td>48.387097</td>\n",
       "      <td>54.596774</td>\n",
       "      <td>4.97</td>\n",
       "      <td>10.340323</td>\n",
       "    </tr>\n",
       "  </tbody>\n",
       "</table>\n",
       "</div>"
      ],
      "text/plain": [
       "   Id       Date                                            Address  \\\n",
       "0   1 2008-06-11  4100 North Oak Park Avenue, Chicago, IL 60634,...   \n",
       "1   2 2008-06-11  4100 North Oak Park Avenue, Chicago, IL 60634,...   \n",
       "2   3 2008-06-11  4100 North Oak Park Avenue, Chicago, IL 60634,...   \n",
       "\n",
       "                  Species  Block           Street  Trap  \\\n",
       "0  CULEX PIPIENS/RESTUANS     41   N OAK PARK AVE  T002   \n",
       "1          CULEX RESTUANS     41   N OAK PARK AVE  T002   \n",
       "2           CULEX PIPIENS     41   N OAK PARK AVE  T002   \n",
       "\n",
       "              AddressNumberAndStreet  Latitude  Longitude  AddressAccuracy  \\\n",
       "0  4100  N OAK PARK AVE, Chicago, IL  41.95469 -87.800991                9   \n",
       "1  4100  N OAK PARK AVE, Chicago, IL  41.95469 -87.800991                9   \n",
       "2  4100  N OAK PARK AVE, Chicago, IL  41.95469 -87.800991                9   \n",
       "\n",
       "   month  year  wnv_density                lat_long  spray_indicator  \\\n",
       "0      6  2007          8.0  (41.95469, -87.800991)                0   \n",
       "1      6  2007          8.0  (41.95469, -87.800991)                0   \n",
       "2      6  2007          8.0  (41.95469, -87.800991)                0   \n",
       "\n",
       "    avg_temp  avg_dewpt  avg_wetbulb  tot_precip  avg_windspeed  \n",
       "0  61.064516  48.387097    54.596774        4.97      10.340323  \n",
       "1  61.064516  48.387097    54.596774        4.97      10.340323  \n",
       "2  61.064516  48.387097    54.596774        4.97      10.340323  "
      ]
     },
     "execution_count": 24,
     "metadata": {},
     "output_type": "execute_result"
    }
   ],
   "source": [
    "test_wnv_spray.head(3)"
   ]
  },
  {
   "cell_type": "code",
   "execution_count": 25,
   "metadata": {},
   "outputs": [
    {
     "data": {
      "text/plain": [
       "(116293, 10)"
      ]
     },
     "execution_count": 25,
     "metadata": {},
     "output_type": "execute_result"
    }
   ],
   "source": [
    "# Retain final variables\n",
    "\n",
    "test_final = test_wnv_spray[['Id', 'Species', 'month', 'wnv_density', 'avg_temp', 'avg_dewpt', 'avg_wetbulb', \n",
    "       'tot_precip', 'avg_windspeed', 'spray_indicator']]\n",
    "test_final.shape"
   ]
  },
  {
   "cell_type": "code",
   "execution_count": 26,
   "metadata": {},
   "outputs": [
    {
     "data": {
      "text/html": [
       "<div>\n",
       "<style scoped>\n",
       "    .dataframe tbody tr th:only-of-type {\n",
       "        vertical-align: middle;\n",
       "    }\n",
       "\n",
       "    .dataframe tbody tr th {\n",
       "        vertical-align: top;\n",
       "    }\n",
       "\n",
       "    .dataframe thead th {\n",
       "        text-align: right;\n",
       "    }\n",
       "</style>\n",
       "<table border=\"1\" class=\"dataframe\">\n",
       "  <thead>\n",
       "    <tr style=\"text-align: right;\">\n",
       "      <th></th>\n",
       "      <th>Id</th>\n",
       "      <th>Species</th>\n",
       "      <th>month</th>\n",
       "      <th>wnv_density</th>\n",
       "      <th>avg_temp</th>\n",
       "      <th>avg_dewpt</th>\n",
       "      <th>avg_wetbulb</th>\n",
       "      <th>tot_precip</th>\n",
       "      <th>avg_windspeed</th>\n",
       "      <th>spray_indicator</th>\n",
       "    </tr>\n",
       "  </thead>\n",
       "  <tbody>\n",
       "    <tr>\n",
       "      <th>0</th>\n",
       "      <td>1</td>\n",
       "      <td>CULEX PIPIENS/RESTUANS</td>\n",
       "      <td>6</td>\n",
       "      <td>8.0</td>\n",
       "      <td>61.064516</td>\n",
       "      <td>48.387097</td>\n",
       "      <td>54.596774</td>\n",
       "      <td>4.97</td>\n",
       "      <td>10.340323</td>\n",
       "      <td>0</td>\n",
       "    </tr>\n",
       "    <tr>\n",
       "      <th>1</th>\n",
       "      <td>2</td>\n",
       "      <td>CULEX RESTUANS</td>\n",
       "      <td>6</td>\n",
       "      <td>8.0</td>\n",
       "      <td>61.064516</td>\n",
       "      <td>48.387097</td>\n",
       "      <td>54.596774</td>\n",
       "      <td>4.97</td>\n",
       "      <td>10.340323</td>\n",
       "      <td>0</td>\n",
       "    </tr>\n",
       "    <tr>\n",
       "      <th>2</th>\n",
       "      <td>3</td>\n",
       "      <td>CULEX PIPIENS</td>\n",
       "      <td>6</td>\n",
       "      <td>8.0</td>\n",
       "      <td>61.064516</td>\n",
       "      <td>48.387097</td>\n",
       "      <td>54.596774</td>\n",
       "      <td>4.97</td>\n",
       "      <td>10.340323</td>\n",
       "      <td>0</td>\n",
       "    </tr>\n",
       "    <tr>\n",
       "      <th>3</th>\n",
       "      <td>4</td>\n",
       "      <td>CULEX SALINARIUS</td>\n",
       "      <td>6</td>\n",
       "      <td>8.0</td>\n",
       "      <td>61.064516</td>\n",
       "      <td>48.387097</td>\n",
       "      <td>54.596774</td>\n",
       "      <td>4.97</td>\n",
       "      <td>10.340323</td>\n",
       "      <td>0</td>\n",
       "    </tr>\n",
       "    <tr>\n",
       "      <th>4</th>\n",
       "      <td>5</td>\n",
       "      <td>CULEX TERRITANS</td>\n",
       "      <td>6</td>\n",
       "      <td>8.0</td>\n",
       "      <td>61.064516</td>\n",
       "      <td>48.387097</td>\n",
       "      <td>54.596774</td>\n",
       "      <td>4.97</td>\n",
       "      <td>10.340323</td>\n",
       "      <td>0</td>\n",
       "    </tr>\n",
       "  </tbody>\n",
       "</table>\n",
       "</div>"
      ],
      "text/plain": [
       "   Id                 Species  month  wnv_density   avg_temp  avg_dewpt  \\\n",
       "0   1  CULEX PIPIENS/RESTUANS      6          8.0  61.064516  48.387097   \n",
       "1   2          CULEX RESTUANS      6          8.0  61.064516  48.387097   \n",
       "2   3           CULEX PIPIENS      6          8.0  61.064516  48.387097   \n",
       "3   4        CULEX SALINARIUS      6          8.0  61.064516  48.387097   \n",
       "4   5         CULEX TERRITANS      6          8.0  61.064516  48.387097   \n",
       "\n",
       "   avg_wetbulb  tot_precip  avg_windspeed  spray_indicator  \n",
       "0    54.596774        4.97      10.340323                0  \n",
       "1    54.596774        4.97      10.340323                0  \n",
       "2    54.596774        4.97      10.340323                0  \n",
       "3    54.596774        4.97      10.340323                0  \n",
       "4    54.596774        4.97      10.340323                0  "
      ]
     },
     "execution_count": 26,
     "metadata": {},
     "output_type": "execute_result"
    }
   ],
   "source": [
    "test_final.head()"
   ]
  },
  {
   "cell_type": "markdown",
   "metadata": {},
   "source": [
    "# One hot encoding"
   ]
  },
  {
   "cell_type": "code",
   "execution_count": 27,
   "metadata": {},
   "outputs": [
    {
     "name": "stdout",
     "output_type": "stream",
     "text": [
      "(116293, 21)\n"
     ]
    },
    {
     "data": {
      "text/html": [
       "<div>\n",
       "<style scoped>\n",
       "    .dataframe tbody tr th:only-of-type {\n",
       "        vertical-align: middle;\n",
       "    }\n",
       "\n",
       "    .dataframe tbody tr th {\n",
       "        vertical-align: top;\n",
       "    }\n",
       "\n",
       "    .dataframe thead th {\n",
       "        text-align: right;\n",
       "    }\n",
       "</style>\n",
       "<table border=\"1\" class=\"dataframe\">\n",
       "  <thead>\n",
       "    <tr style=\"text-align: right;\">\n",
       "      <th></th>\n",
       "      <th>Id</th>\n",
       "      <th>wnv_density</th>\n",
       "      <th>avg_temp</th>\n",
       "      <th>avg_dewpt</th>\n",
       "      <th>avg_wetbulb</th>\n",
       "      <th>tot_precip</th>\n",
       "      <th>avg_windspeed</th>\n",
       "      <th>spray_indicator</th>\n",
       "      <th>Species_CULEX ERRATICUS</th>\n",
       "      <th>Species_CULEX PIPIENS</th>\n",
       "      <th>Species_CULEX PIPIENS/RESTUANS</th>\n",
       "      <th>Species_CULEX RESTUANS</th>\n",
       "      <th>Species_CULEX SALINARIUS</th>\n",
       "      <th>Species_CULEX TARSALIS</th>\n",
       "      <th>Species_CULEX TERRITANS</th>\n",
       "      <th>Species_UNSPECIFIED CULEX</th>\n",
       "      <th>month_6</th>\n",
       "      <th>month_7</th>\n",
       "      <th>month_8</th>\n",
       "      <th>month_9</th>\n",
       "      <th>month_10</th>\n",
       "    </tr>\n",
       "  </thead>\n",
       "  <tbody>\n",
       "    <tr>\n",
       "      <th>0</th>\n",
       "      <td>1</td>\n",
       "      <td>8.0</td>\n",
       "      <td>61.064516</td>\n",
       "      <td>48.387097</td>\n",
       "      <td>54.596774</td>\n",
       "      <td>4.97</td>\n",
       "      <td>10.340323</td>\n",
       "      <td>0</td>\n",
       "      <td>0</td>\n",
       "      <td>0</td>\n",
       "      <td>1</td>\n",
       "      <td>0</td>\n",
       "      <td>0</td>\n",
       "      <td>0</td>\n",
       "      <td>0</td>\n",
       "      <td>0</td>\n",
       "      <td>1</td>\n",
       "      <td>0</td>\n",
       "      <td>0</td>\n",
       "      <td>0</td>\n",
       "      <td>0</td>\n",
       "    </tr>\n",
       "    <tr>\n",
       "      <th>1</th>\n",
       "      <td>2</td>\n",
       "      <td>8.0</td>\n",
       "      <td>61.064516</td>\n",
       "      <td>48.387097</td>\n",
       "      <td>54.596774</td>\n",
       "      <td>4.97</td>\n",
       "      <td>10.340323</td>\n",
       "      <td>0</td>\n",
       "      <td>0</td>\n",
       "      <td>0</td>\n",
       "      <td>0</td>\n",
       "      <td>1</td>\n",
       "      <td>0</td>\n",
       "      <td>0</td>\n",
       "      <td>0</td>\n",
       "      <td>0</td>\n",
       "      <td>1</td>\n",
       "      <td>0</td>\n",
       "      <td>0</td>\n",
       "      <td>0</td>\n",
       "      <td>0</td>\n",
       "    </tr>\n",
       "    <tr>\n",
       "      <th>2</th>\n",
       "      <td>3</td>\n",
       "      <td>8.0</td>\n",
       "      <td>61.064516</td>\n",
       "      <td>48.387097</td>\n",
       "      <td>54.596774</td>\n",
       "      <td>4.97</td>\n",
       "      <td>10.340323</td>\n",
       "      <td>0</td>\n",
       "      <td>0</td>\n",
       "      <td>1</td>\n",
       "      <td>0</td>\n",
       "      <td>0</td>\n",
       "      <td>0</td>\n",
       "      <td>0</td>\n",
       "      <td>0</td>\n",
       "      <td>0</td>\n",
       "      <td>1</td>\n",
       "      <td>0</td>\n",
       "      <td>0</td>\n",
       "      <td>0</td>\n",
       "      <td>0</td>\n",
       "    </tr>\n",
       "    <tr>\n",
       "      <th>3</th>\n",
       "      <td>4</td>\n",
       "      <td>8.0</td>\n",
       "      <td>61.064516</td>\n",
       "      <td>48.387097</td>\n",
       "      <td>54.596774</td>\n",
       "      <td>4.97</td>\n",
       "      <td>10.340323</td>\n",
       "      <td>0</td>\n",
       "      <td>0</td>\n",
       "      <td>0</td>\n",
       "      <td>0</td>\n",
       "      <td>0</td>\n",
       "      <td>1</td>\n",
       "      <td>0</td>\n",
       "      <td>0</td>\n",
       "      <td>0</td>\n",
       "      <td>1</td>\n",
       "      <td>0</td>\n",
       "      <td>0</td>\n",
       "      <td>0</td>\n",
       "      <td>0</td>\n",
       "    </tr>\n",
       "    <tr>\n",
       "      <th>4</th>\n",
       "      <td>5</td>\n",
       "      <td>8.0</td>\n",
       "      <td>61.064516</td>\n",
       "      <td>48.387097</td>\n",
       "      <td>54.596774</td>\n",
       "      <td>4.97</td>\n",
       "      <td>10.340323</td>\n",
       "      <td>0</td>\n",
       "      <td>0</td>\n",
       "      <td>0</td>\n",
       "      <td>0</td>\n",
       "      <td>0</td>\n",
       "      <td>0</td>\n",
       "      <td>0</td>\n",
       "      <td>1</td>\n",
       "      <td>0</td>\n",
       "      <td>1</td>\n",
       "      <td>0</td>\n",
       "      <td>0</td>\n",
       "      <td>0</td>\n",
       "      <td>0</td>\n",
       "    </tr>\n",
       "  </tbody>\n",
       "</table>\n",
       "</div>"
      ],
      "text/plain": [
       "   Id  wnv_density   avg_temp  avg_dewpt  avg_wetbulb  tot_precip  \\\n",
       "0   1          8.0  61.064516  48.387097    54.596774        4.97   \n",
       "1   2          8.0  61.064516  48.387097    54.596774        4.97   \n",
       "2   3          8.0  61.064516  48.387097    54.596774        4.97   \n",
       "3   4          8.0  61.064516  48.387097    54.596774        4.97   \n",
       "4   5          8.0  61.064516  48.387097    54.596774        4.97   \n",
       "\n",
       "   avg_windspeed  spray_indicator  Species_CULEX ERRATICUS  \\\n",
       "0      10.340323                0                        0   \n",
       "1      10.340323                0                        0   \n",
       "2      10.340323                0                        0   \n",
       "3      10.340323                0                        0   \n",
       "4      10.340323                0                        0   \n",
       "\n",
       "   Species_CULEX PIPIENS  Species_CULEX PIPIENS/RESTUANS  \\\n",
       "0                      0                               1   \n",
       "1                      0                               0   \n",
       "2                      1                               0   \n",
       "3                      0                               0   \n",
       "4                      0                               0   \n",
       "\n",
       "   Species_CULEX RESTUANS  Species_CULEX SALINARIUS  Species_CULEX TARSALIS  \\\n",
       "0                       0                         0                       0   \n",
       "1                       1                         0                       0   \n",
       "2                       0                         0                       0   \n",
       "3                       0                         1                       0   \n",
       "4                       0                         0                       0   \n",
       "\n",
       "   Species_CULEX TERRITANS  Species_UNSPECIFIED CULEX  month_6  month_7  \\\n",
       "0                        0                          0        1        0   \n",
       "1                        0                          0        1        0   \n",
       "2                        0                          0        1        0   \n",
       "3                        0                          0        1        0   \n",
       "4                        1                          0        1        0   \n",
       "\n",
       "   month_8  month_9  month_10  \n",
       "0        0        0         0  \n",
       "1        0        0         0  \n",
       "2        0        0         0  \n",
       "3        0        0         0  \n",
       "4        0        0         0  "
      ]
     },
     "execution_count": 27,
     "metadata": {},
     "output_type": "execute_result"
    }
   ],
   "source": [
    "test_final = pd.get_dummies(test_final, columns=['Species', 'month'])\n",
    "print(test_final.shape)\n",
    "test_final.head()"
   ]
  },
  {
   "cell_type": "code",
   "execution_count": 28,
   "metadata": {},
   "outputs": [
    {
     "name": "stdout",
     "output_type": "stream",
     "text": [
      "(116293, 18)\n"
     ]
    }
   ],
   "source": [
    "test_final.drop(columns=['avg_dewpt', 'avg_wetbulb', 'Species_UNSPECIFIED CULEX'], inplace=True)\n",
    "print(test_final.shape)"
   ]
  },
  {
   "cell_type": "code",
   "execution_count": 29,
   "metadata": {},
   "outputs": [],
   "source": [
    "# Scale features\n",
    "\n",
    "test_final_transformed = ct.transform(test_final.drop(columns=['Id']))"
   ]
  },
  {
   "cell_type": "code",
   "execution_count": 30,
   "metadata": {},
   "outputs": [],
   "source": [
    "test_final_transformed = pd.DataFrame(data=test_final_transformed, index=np.arange(len(test_final_transformed)), columns = ['wnv_density', 'avg_temp', 'tot_precip',\n",
    "       'avg_windspeed', 'spray_indicator', 'Species_CULEX ERRATICUS',\n",
    "       'Species_CULEX PIPIENS', 'Species_CULEX PIPIENS/RESTUANS',\n",
    "       'Species_CULEX RESTUANS', 'Species_CULEX SALINARIUS',\n",
    "       'Species_CULEX TARSALIS', 'Species_CULEX TERRITANS', 'month_6',\n",
    "       'month_7', 'month_8', 'month_9', 'month_10'])"
   ]
  },
  {
   "cell_type": "code",
   "execution_count": 31,
   "metadata": {},
   "outputs": [],
   "source": [
    "test_final_transformed = test_final[['Id']].join(test_final_transformed)"
   ]
  },
  {
   "cell_type": "markdown",
   "metadata": {},
   "source": [
    "# Make predictions"
   ]
  },
  {
   "cell_type": "code",
   "execution_count": 32,
   "metadata": {},
   "outputs": [],
   "source": [
    "test_final_transformed['WnvPresent'] = ada_final.predict_proba(test_final_transformed.drop(columns=['Id']))[:,1]"
   ]
  },
  {
   "cell_type": "code",
   "execution_count": 33,
   "metadata": {},
   "outputs": [
    {
     "data": {
      "text/html": [
       "<div>\n",
       "<style scoped>\n",
       "    .dataframe tbody tr th:only-of-type {\n",
       "        vertical-align: middle;\n",
       "    }\n",
       "\n",
       "    .dataframe tbody tr th {\n",
       "        vertical-align: top;\n",
       "    }\n",
       "\n",
       "    .dataframe thead th {\n",
       "        text-align: right;\n",
       "    }\n",
       "</style>\n",
       "<table border=\"1\" class=\"dataframe\">\n",
       "  <thead>\n",
       "    <tr style=\"text-align: right;\">\n",
       "      <th></th>\n",
       "      <th>Id</th>\n",
       "      <th>wnv_density</th>\n",
       "      <th>avg_temp</th>\n",
       "      <th>tot_precip</th>\n",
       "      <th>avg_windspeed</th>\n",
       "      <th>spray_indicator</th>\n",
       "      <th>Species_CULEX ERRATICUS</th>\n",
       "      <th>Species_CULEX PIPIENS</th>\n",
       "      <th>Species_CULEX PIPIENS/RESTUANS</th>\n",
       "      <th>Species_CULEX RESTUANS</th>\n",
       "      <th>Species_CULEX SALINARIUS</th>\n",
       "      <th>Species_CULEX TARSALIS</th>\n",
       "      <th>Species_CULEX TERRITANS</th>\n",
       "      <th>month_6</th>\n",
       "      <th>month_7</th>\n",
       "      <th>month_8</th>\n",
       "      <th>month_9</th>\n",
       "      <th>month_10</th>\n",
       "      <th>WnvPresent</th>\n",
       "    </tr>\n",
       "  </thead>\n",
       "  <tbody>\n",
       "    <tr>\n",
       "      <th>0</th>\n",
       "      <td>1</td>\n",
       "      <td>0.334187</td>\n",
       "      <td>-2.641765</td>\n",
       "      <td>0.313481</td>\n",
       "      <td>3.056656</td>\n",
       "      <td>0.0</td>\n",
       "      <td>0.0</td>\n",
       "      <td>0.0</td>\n",
       "      <td>1.0</td>\n",
       "      <td>0.0</td>\n",
       "      <td>0.0</td>\n",
       "      <td>0.0</td>\n",
       "      <td>0.0</td>\n",
       "      <td>1.0</td>\n",
       "      <td>0.0</td>\n",
       "      <td>0.0</td>\n",
       "      <td>0.0</td>\n",
       "      <td>0.0</td>\n",
       "      <td>0.116445</td>\n",
       "    </tr>\n",
       "    <tr>\n",
       "      <th>1</th>\n",
       "      <td>2</td>\n",
       "      <td>0.334187</td>\n",
       "      <td>-2.641765</td>\n",
       "      <td>0.313481</td>\n",
       "      <td>3.056656</td>\n",
       "      <td>0.0</td>\n",
       "      <td>0.0</td>\n",
       "      <td>0.0</td>\n",
       "      <td>0.0</td>\n",
       "      <td>1.0</td>\n",
       "      <td>0.0</td>\n",
       "      <td>0.0</td>\n",
       "      <td>0.0</td>\n",
       "      <td>1.0</td>\n",
       "      <td>0.0</td>\n",
       "      <td>0.0</td>\n",
       "      <td>0.0</td>\n",
       "      <td>0.0</td>\n",
       "      <td>0.102468</td>\n",
       "    </tr>\n",
       "    <tr>\n",
       "      <th>2</th>\n",
       "      <td>3</td>\n",
       "      <td>0.334187</td>\n",
       "      <td>-2.641765</td>\n",
       "      <td>0.313481</td>\n",
       "      <td>3.056656</td>\n",
       "      <td>0.0</td>\n",
       "      <td>0.0</td>\n",
       "      <td>1.0</td>\n",
       "      <td>0.0</td>\n",
       "      <td>0.0</td>\n",
       "      <td>0.0</td>\n",
       "      <td>0.0</td>\n",
       "      <td>0.0</td>\n",
       "      <td>1.0</td>\n",
       "      <td>0.0</td>\n",
       "      <td>0.0</td>\n",
       "      <td>0.0</td>\n",
       "      <td>0.0</td>\n",
       "      <td>0.124784</td>\n",
       "    </tr>\n",
       "    <tr>\n",
       "      <th>3</th>\n",
       "      <td>4</td>\n",
       "      <td>0.334187</td>\n",
       "      <td>-2.641765</td>\n",
       "      <td>0.313481</td>\n",
       "      <td>3.056656</td>\n",
       "      <td>0.0</td>\n",
       "      <td>0.0</td>\n",
       "      <td>0.0</td>\n",
       "      <td>0.0</td>\n",
       "      <td>0.0</td>\n",
       "      <td>1.0</td>\n",
       "      <td>0.0</td>\n",
       "      <td>0.0</td>\n",
       "      <td>1.0</td>\n",
       "      <td>0.0</td>\n",
       "      <td>0.0</td>\n",
       "      <td>0.0</td>\n",
       "      <td>0.0</td>\n",
       "      <td>0.089167</td>\n",
       "    </tr>\n",
       "    <tr>\n",
       "      <th>4</th>\n",
       "      <td>5</td>\n",
       "      <td>0.334187</td>\n",
       "      <td>-2.641765</td>\n",
       "      <td>0.313481</td>\n",
       "      <td>3.056656</td>\n",
       "      <td>0.0</td>\n",
       "      <td>0.0</td>\n",
       "      <td>0.0</td>\n",
       "      <td>0.0</td>\n",
       "      <td>0.0</td>\n",
       "      <td>0.0</td>\n",
       "      <td>0.0</td>\n",
       "      <td>1.0</td>\n",
       "      <td>1.0</td>\n",
       "      <td>0.0</td>\n",
       "      <td>0.0</td>\n",
       "      <td>0.0</td>\n",
       "      <td>0.0</td>\n",
       "      <td>0.080587</td>\n",
       "    </tr>\n",
       "  </tbody>\n",
       "</table>\n",
       "</div>"
      ],
      "text/plain": [
       "   Id  wnv_density  avg_temp  tot_precip  avg_windspeed  spray_indicator  \\\n",
       "0   1     0.334187 -2.641765    0.313481       3.056656              0.0   \n",
       "1   2     0.334187 -2.641765    0.313481       3.056656              0.0   \n",
       "2   3     0.334187 -2.641765    0.313481       3.056656              0.0   \n",
       "3   4     0.334187 -2.641765    0.313481       3.056656              0.0   \n",
       "4   5     0.334187 -2.641765    0.313481       3.056656              0.0   \n",
       "\n",
       "   Species_CULEX ERRATICUS  Species_CULEX PIPIENS  \\\n",
       "0                      0.0                    0.0   \n",
       "1                      0.0                    0.0   \n",
       "2                      0.0                    1.0   \n",
       "3                      0.0                    0.0   \n",
       "4                      0.0                    0.0   \n",
       "\n",
       "   Species_CULEX PIPIENS/RESTUANS  Species_CULEX RESTUANS  \\\n",
       "0                             1.0                     0.0   \n",
       "1                             0.0                     1.0   \n",
       "2                             0.0                     0.0   \n",
       "3                             0.0                     0.0   \n",
       "4                             0.0                     0.0   \n",
       "\n",
       "   Species_CULEX SALINARIUS  Species_CULEX TARSALIS  Species_CULEX TERRITANS  \\\n",
       "0                       0.0                     0.0                      0.0   \n",
       "1                       0.0                     0.0                      0.0   \n",
       "2                       0.0                     0.0                      0.0   \n",
       "3                       1.0                     0.0                      0.0   \n",
       "4                       0.0                     0.0                      1.0   \n",
       "\n",
       "   month_6  month_7  month_8  month_9  month_10  WnvPresent  \n",
       "0      1.0      0.0      0.0      0.0       0.0    0.116445  \n",
       "1      1.0      0.0      0.0      0.0       0.0    0.102468  \n",
       "2      1.0      0.0      0.0      0.0       0.0    0.124784  \n",
       "3      1.0      0.0      0.0      0.0       0.0    0.089167  \n",
       "4      1.0      0.0      0.0      0.0       0.0    0.080587  "
      ]
     },
     "execution_count": 33,
     "metadata": {},
     "output_type": "execute_result"
    }
   ],
   "source": [
    "test_final_transformed.head()"
   ]
  },
  {
   "cell_type": "code",
   "execution_count": 34,
   "metadata": {},
   "outputs": [
    {
     "name": "stdout",
     "output_type": "stream",
     "text": [
      "<class 'pandas.core.frame.DataFrame'>\n",
      "Int64Index: 116293 entries, 0 to 116292\n",
      "Data columns (total 19 columns):\n",
      " #   Column                          Non-Null Count   Dtype  \n",
      "---  ------                          --------------   -----  \n",
      " 0   Id                              116293 non-null  int64  \n",
      " 1   wnv_density                     116293 non-null  float64\n",
      " 2   avg_temp                        116293 non-null  float64\n",
      " 3   tot_precip                      116293 non-null  float64\n",
      " 4   avg_windspeed                   116293 non-null  float64\n",
      " 5   spray_indicator                 116293 non-null  float64\n",
      " 6   Species_CULEX ERRATICUS         116293 non-null  float64\n",
      " 7   Species_CULEX PIPIENS           116293 non-null  float64\n",
      " 8   Species_CULEX PIPIENS/RESTUANS  116293 non-null  float64\n",
      " 9   Species_CULEX RESTUANS          116293 non-null  float64\n",
      " 10  Species_CULEX SALINARIUS        116293 non-null  float64\n",
      " 11  Species_CULEX TARSALIS          116293 non-null  float64\n",
      " 12  Species_CULEX TERRITANS         116293 non-null  float64\n",
      " 13  month_6                         116293 non-null  float64\n",
      " 14  month_7                         116293 non-null  float64\n",
      " 15  month_8                         116293 non-null  float64\n",
      " 16  month_9                         116293 non-null  float64\n",
      " 17  month_10                        116293 non-null  float64\n",
      " 18  WnvPresent                      116293 non-null  float64\n",
      "dtypes: float64(18), int64(1)\n",
      "memory usage: 21.8 MB\n"
     ]
    }
   ],
   "source": [
    "test_final_transformed.info()"
   ]
  },
  {
   "cell_type": "markdown",
   "metadata": {},
   "source": [
    "# Output predictions to CSV"
   ]
  },
  {
   "cell_type": "code",
   "execution_count": 35,
   "metadata": {},
   "outputs": [],
   "source": [
    "test_final_transformed[['Id', 'WnvPresent']].to_csv('../assets/predictions/submission.csv', index=False)"
   ]
  },
  {
   "cell_type": "markdown",
   "metadata": {},
   "source": [
    "# Where should we spray?"
   ]
  },
  {
   "cell_type": "code",
   "execution_count": 36,
   "metadata": {},
   "outputs": [
    {
     "name": "stderr",
     "output_type": "stream",
     "text": [
      "C:\\Users\\Internet\\anaconda3\\envs\\py39pysal\\lib\\site-packages\\pyproj\\crs\\crs.py:131: FutureWarning: '+init=<authority>:<code>' syntax is deprecated. '<authority>:<code>' is the preferred initialization method. When making the change, be mindful of axis order changes: https://pyproj4.github.io/pyproj/stable/gotchas.html#axis-order-changes-in-proj-6\n",
      "  in_crs_string = _prepare_from_proj_string(in_crs_string)\n"
     ]
    }
   ],
   "source": [
    "street_map = gpd.read_file('../assets/geo_export_a6957f22-b168-4cee-b03c-0bcc9815308c.shp')\n",
    "\n",
    "geometry = [Point(xy) for xy in zip(test['Longitude'], test['Latitude'])]\n",
    "\n",
    "geo_test = gpd.GeoDataFrame(test,\n",
    "                            crs={'init': 'epsg:4326'},\n",
    "                             geometry=geometry)\n",
    "\n",
    "geo_test['WnvPresent'] = test_final_transformed['WnvPresent']\n",
    "geo_test['WnvPresent'] = geo_test['WnvPresent'].apply(lambda x: 1 if x >= 0.5 else 0)"
   ]
  },
  {
   "cell_type": "code",
   "execution_count": 37,
   "metadata": {},
   "outputs": [
    {
     "data": {
      "text/html": [
       "<div>\n",
       "<style scoped>\n",
       "    .dataframe tbody tr th:only-of-type {\n",
       "        vertical-align: middle;\n",
       "    }\n",
       "\n",
       "    .dataframe tbody tr th {\n",
       "        vertical-align: top;\n",
       "    }\n",
       "\n",
       "    .dataframe thead th {\n",
       "        text-align: right;\n",
       "    }\n",
       "</style>\n",
       "<table border=\"1\" class=\"dataframe\">\n",
       "  <thead>\n",
       "    <tr style=\"text-align: right;\">\n",
       "      <th></th>\n",
       "      <th>Id</th>\n",
       "      <th>Date</th>\n",
       "      <th>Address</th>\n",
       "      <th>Species</th>\n",
       "      <th>Block</th>\n",
       "      <th>Street</th>\n",
       "      <th>Trap</th>\n",
       "      <th>AddressNumberAndStreet</th>\n",
       "      <th>Latitude</th>\n",
       "      <th>Longitude</th>\n",
       "      <th>AddressAccuracy</th>\n",
       "      <th>month</th>\n",
       "      <th>year</th>\n",
       "      <th>geometry</th>\n",
       "      <th>WnvPresent</th>\n",
       "    </tr>\n",
       "  </thead>\n",
       "  <tbody>\n",
       "    <tr>\n",
       "      <th>0</th>\n",
       "      <td>1</td>\n",
       "      <td>2008-06-11</td>\n",
       "      <td>4100 North Oak Park Avenue, Chicago, IL 60634,...</td>\n",
       "      <td>CULEX PIPIENS/RESTUANS</td>\n",
       "      <td>41</td>\n",
       "      <td>N OAK PARK AVE</td>\n",
       "      <td>T002</td>\n",
       "      <td>4100  N OAK PARK AVE, Chicago, IL</td>\n",
       "      <td>41.95469</td>\n",
       "      <td>-87.800991</td>\n",
       "      <td>9</td>\n",
       "      <td>6</td>\n",
       "      <td>2007</td>\n",
       "      <td>POINT (-87.80099 41.95469)</td>\n",
       "      <td>0</td>\n",
       "    </tr>\n",
       "  </tbody>\n",
       "</table>\n",
       "</div>"
      ],
      "text/plain": [
       "   Id       Date                                            Address  \\\n",
       "0   1 2008-06-11  4100 North Oak Park Avenue, Chicago, IL 60634,...   \n",
       "\n",
       "                  Species  Block           Street  Trap  \\\n",
       "0  CULEX PIPIENS/RESTUANS     41   N OAK PARK AVE  T002   \n",
       "\n",
       "              AddressNumberAndStreet  Latitude  Longitude  AddressAccuracy  \\\n",
       "0  4100  N OAK PARK AVE, Chicago, IL  41.95469 -87.800991                9   \n",
       "\n",
       "   month  year                    geometry  WnvPresent  \n",
       "0      6  2007  POINT (-87.80099 41.95469)           0  "
      ]
     },
     "execution_count": 37,
     "metadata": {},
     "output_type": "execute_result"
    }
   ],
   "source": [
    "geo_test.head(1)"
   ]
  },
  {
   "cell_type": "code",
   "execution_count": 38,
   "metadata": {},
   "outputs": [],
   "source": [
    "# create 1 dataframe, 1 for each year\n",
    "geo_test_groupby_2008_WNV = geo_test[geo_test['Date'].dt.year==2008].dissolve(by='Address', aggfunc='sum')\n",
    "geo_test_groupby_2008_WNV = geo_test_groupby_2008_WNV[geo_test_groupby_2008_WNV['WnvPresent'] > 0]\n",
    "\n",
    "geo_test_groupby_2010_WNV = geo_test[geo_test['Date'].dt.year==2010].dissolve(by='Address', aggfunc='sum')\n",
    "geo_test_groupby_2010_WNV = geo_test_groupby_2010_WNV[geo_test_groupby_2010_WNV['WnvPresent'] > 0]\n",
    "\n",
    "geo_test_groupby_2012_WNV = geo_test[geo_test['Date'].dt.year==2012].dissolve(by='Address', aggfunc='sum')\n",
    "geo_test_groupby_2012_WNV = geo_test_groupby_2012_WNV[geo_test_groupby_2012_WNV['WnvPresent'] > 0]\n",
    "\n",
    "geo_test_groupby_2014_WNV = geo_test[geo_test['Date'].dt.year==2014].dissolve(by='Address', aggfunc='sum')\n",
    "geo_test_groupby_2014_WNV = geo_test_groupby_2014_WNV[geo_test_groupby_2014_WNV['WnvPresent'] > 0]"
   ]
  },
  {
   "cell_type": "code",
   "execution_count": 39,
   "metadata": {},
   "outputs": [
    {
     "data": {
      "image/png": "[encoded data removed]",
      "text/plain": [
       "<Figure size 1296x1296 with 4 Axes>"
      ]
     },
     "metadata": {
      "needs_background": "light"
     },
     "output_type": "display_data"
    }
   ],
   "source": [
    "fig,ax = plt.subplots(figsize=(18,18), nrows=1, ncols=4)\n",
    "street_map.plot(ax=ax[0], alpha=0.4, color='grey')\n",
    "street_map.plot(ax=ax[1], alpha=0.4, color='grey')\n",
    "street_map.plot(ax=ax[2], alpha=0.4, color='grey')\n",
    "street_map.plot(ax=ax[3], alpha=0.4, color='grey')\n",
    "\n",
    "geo_test_groupby_2008_WNV.plot(ax=ax[0], markersize=(geo_test_groupby_2008_WNV['WnvPresent']).values, color='red', marker='o')\n",
    "ax[0].set_title('Predicted WNV Densities - 2008')\n",
    "\n",
    "geo_test_groupby_2010_WNV.plot(ax=ax[1], markersize=(geo_test_groupby_2010_WNV['WnvPresent']).values, color='red', marker='o')\n",
    "ax[1].set_title('Predicted WNV Densities - 2010')\n",
    "\n",
    "geo_test_groupby_2012_WNV.plot(ax=ax[2], markersize=(geo_test_groupby_2012_WNV['WnvPresent']).values, color='red', marker='o')\n",
    "ax[2].set_title('Predicted WNV Densities - 2012')\n",
    "\n",
    "geo_test_groupby_2014_WNV.plot(ax=ax[3], markersize=(geo_test_groupby_2014_WNV['WnvPresent']).values, color='red', marker='o')\n",
    "ax[3].set_title('Predicted WNV Densities - 2014')\n",
    "\n",
    "fig.savefig('../charts/12.jpg')"
   ]
  },
  {
   "cell_type": "code",
   "execution_count": 40,
   "metadata": {},
   "outputs": [
    {
     "name": "stdout",
     "output_type": "stream",
     "text": [
      "Across 2008, 2010, 2012 and 2014, there are 92 locations ever detected with WNV.\n"
     ]
    }
   ],
   "source": [
    "print(f'Across 2008, 2010, 2012 and 2014, there are {geo_test[geo_test[\"WnvPresent\"] == 1][\"Address\"].nunique()} locations ever detected with WNV.')"
   ]
  },
  {
   "cell_type": "markdown",
   "metadata": {},
   "source": [
    "# Cost Benefit Analysis"
   ]
  },
  {
   "cell_type": "markdown",
   "metadata": {},
   "source": [
    "The Chicago Department of Public Health (CDPH) utilises mosquito adulticides, specifically Zenivex (Zenivex E20 costs $0.67 per acre (Zenivex Price Brochure), to reduce the occurrence of the West Nile Virus (WNV). The spray is implemented at dusk and ends approximately 1 hour past midnight [(source)](https://www.chicago.gov/city/en/depts/cdph/provdrs/healthy_communities/news/2020/august/city-to-spray-insecticide-thursday-to-kill-mosquitoes0.html). \n",
    "\n",
    "With the model, we can conduct targeted spraying, and spray only at the trap locations that the model has predicted to have WNV. As the Culex mosquitoes are known to fly up to 1.33 km (1373 acres) [(source)](https://www.ncbi.nlm.nih.gov/pmc/articles/PMC3278816/), it would cost \\\\$919.91 to spray at each trap to cover 1373 acres. Spraying all traps (92) that were predicted WNV-present would cost \\\\$84,631.72. Since each spray lasts about 30 days [(source)](https://www.callnorthwest.com/2019/05/how-long-does-a-mosquito-treatment-last/), and we will only need to spray during the peak months, i.e. June-October as predicted by the model, it will cost \\\\$423,158.60 annually.\n",
    "\n",
    "The benefits of conducting the spray include: lowering the number of mosquitoes in the city, which would also reduce the occurrence of other diseases, such as Zika and Malaria and lowering the amount of medical and hospitalisation fees paid by the citizens of Chicago.\n",
    "\n",
    "Should spraying not be conducted, while the city would save \\\\$423,158.60 annually, the cost of making such a decision is substantially greater. If a person is infected by the WNV, they may develop serious symptoms which could result in hospitalisation and treatment, which would in turn result in lost productivity. It is estimated that the WNV would cost about \\\\$60,000,000 a year in medical fees and lost productivity [(source)](https://www.ncbi.nlm.nih.gov/pmc/articles/PMC3945683/)."
   ]
  },
  {
   "cell_type": "markdown",
   "metadata": {},
   "source": [
    "# Conclusions"
   ]
  },
  {
   "cell_type": "markdown",
   "metadata": {},
   "source": [
    "Based on our EDA and modeling, we uncovered the following pointers:\n",
    "- The probability of detecting WNV in mosquitos is correlated to the number of mosquitos present. In other words, if there are more mosquitos, the risk of WNV transmission is higher.\n",
    "- WNV-positive mosquitos are more prevalent in Jul - Sept; this corroborates evidence found online.\n",
    "- The increase in prevalence during these months also correlate with higher temperatures and humidity.\n",
    "- WNV density - the frequency which a trap tests positive - is the strongest indicator of whether WNV is present, followed by weather conditions\n",
    "\n",
    "Due to the limitations of the dataset, there are many factors which were not taken into account:\n",
    "- Time lag - all data across years were aggregated together when in fact WNV transmissions may not be uniform across years.\n",
    "- There could be other areas not under surveillance and hence not predicted upon - we might have missed hot spots to conduct sprays in.\n",
    "- Amount of training data was limited for certain months and locations."
   ]
  },
  {
   "cell_type": "markdown",
   "metadata": {},
   "source": [
    "# Recommendations"
   ]
  },
  {
   "cell_type": "markdown",
   "metadata": {},
   "source": [
    "We recommend the City of Chicago to carry out sprays in this fashion:\n",
    "- All trap locations which are predicted to be positive.\n",
    "- Conducting sprays on a monthly basis from Jun - Oct, the period where WNV is at its peak.\n",
    "- Spray frequency could even be increased in areas predicted to be \"hot spots\".\n",
    "- Since temperature and humidity are important indicators of WNV transmission, officials should monitor the weather round the year and look out for seasons of high temperature and humidity and conduct sprays accordingly, not only in months of Jun-Oct. This is particularly pertinent given that the climate is changing and WNV peak seasons may shift to other months."
   ]
  },
  {
   "cell_type": "markdown",
   "metadata": {},
   "source": [
    "# Future Work"
   ]
  },
  {
   "cell_type": "markdown",
   "metadata": {},
   "source": [
    "To enhance the model, the time lag could be taken into account. For example, using 2007 data to predict upon 2008. More data availability would also enhance its predictive powers - for example, having the actual number of human cases staying at each location, more comprehensive spray data, or more testing data across other months."
   ]
  }
 ],
 "metadata": {
  "anaconda-cloud": {},
  "kernelspec": {
   "display_name": "Python 3 (ipykernel)",
   "language": "python",
   "name": "python3"
  },
  "language_info": {
   "codemirror_mode": {
    "name": "ipython",
    "version": 3
   },
   "file_extension": ".py",
   "mimetype": "text/x-python",
   "name": "python",
   "nbconvert_exporter": "python",
   "pygments_lexer": "ipython3",
   "version": "3.9.10"
  }
 },
 "nbformat": 4,
 "nbformat_minor": 4
}
