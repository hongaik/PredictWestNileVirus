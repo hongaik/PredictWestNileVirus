{
 "cells": [
  {
   "cell_type": "markdown",
   "metadata": {},
   "source": [
    "<img src=\"http://imgur.com/1ZcRyrc.png\" style=\"float: left; margin: 20px; height: 55px\">\n",
    "\n",
    "# Project 4: Predicting West Nile Virus in Mosquitoes"
   ]
  },
  {
   "cell_type": "code",
   "execution_count": 1,
   "metadata": {},
   "outputs": [],
   "source": [
    "import requests\n",
    "import pandas as pd\n",
    "import numpy as np\n",
    "import matplotlib.pyplot as plt\n",
    "import seaborn as sns\n",
    "from sklearn.metrics import plot_confusion_matrix, confusion_matrix, roc_auc_score\n",
    "from sklearn.model_selection import train_test_split, GridSearchCV, RandomizedSearchCV, cross_val_score\n",
    "from sklearn.linear_model import LogisticRegression\n",
    "from sklearn.neural_network import MLPClassifier\n",
    "from sklearn.ensemble import RandomForestClassifier\n",
    "from sklearn.pipeline import Pipeline\n",
    "from sklearn.preprocessing import StandardScaler\n",
    "import time\n",
    "import re\n",
    "import datetime\n",
    "import random\n",
    "import pickle\n",
    "import geopandas as gpd\n",
    "from shapely.geometry import Point, Polygon\n",
    "from matplotlib import dates, cm\n",
    "from geopy.distance import geodesic\n",
    "\n",
    "pd.set_option('display.max_columns', 50)\n",
    "pd.options.mode.chained_assignment = None  # default='warn'"
   ]
  },
  {
   "cell_type": "markdown",
   "metadata": {},
   "source": [
    "# Read in data files"
   ]
  },
  {
   "cell_type": "code",
   "execution_count": 2,
   "metadata": {},
   "outputs": [
    {
     "data": {
      "text/html": [
       "<div>\n",
       "<style scoped>\n",
       "    .dataframe tbody tr th:only-of-type {\n",
       "        vertical-align: middle;\n",
       "    }\n",
       "\n",
       "    .dataframe tbody tr th {\n",
       "        vertical-align: top;\n",
       "    }\n",
       "\n",
       "    .dataframe thead th {\n",
       "        text-align: right;\n",
       "    }\n",
       "</style>\n",
       "<table border=\"1\" class=\"dataframe\">\n",
       "  <thead>\n",
       "    <tr style=\"text-align: right;\">\n",
       "      <th></th>\n",
       "      <th>Date</th>\n",
       "      <th>Address</th>\n",
       "      <th>Species</th>\n",
       "      <th>Block</th>\n",
       "      <th>Street</th>\n",
       "      <th>Trap</th>\n",
       "      <th>AddressNumberAndStreet</th>\n",
       "      <th>Latitude</th>\n",
       "      <th>Longitude</th>\n",
       "      <th>AddressAccuracy</th>\n",
       "      <th>NumMosquitos</th>\n",
       "      <th>WnvPresent</th>\n",
       "    </tr>\n",
       "  </thead>\n",
       "  <tbody>\n",
       "    <tr>\n",
       "      <th>0</th>\n",
       "      <td>2007-05-29</td>\n",
       "      <td>4100 North Oak Park Avenue, Chicago, IL 60634,...</td>\n",
       "      <td>CULEX PIPIENS/RESTUANS</td>\n",
       "      <td>41</td>\n",
       "      <td>N OAK PARK AVE</td>\n",
       "      <td>T002</td>\n",
       "      <td>4100  N OAK PARK AVE, Chicago, IL</td>\n",
       "      <td>41.95469</td>\n",
       "      <td>-87.800991</td>\n",
       "      <td>9</td>\n",
       "      <td>1</td>\n",
       "      <td>0</td>\n",
       "    </tr>\n",
       "    <tr>\n",
       "      <th>1</th>\n",
       "      <td>2007-05-29</td>\n",
       "      <td>4100 North Oak Park Avenue, Chicago, IL 60634,...</td>\n",
       "      <td>CULEX RESTUANS</td>\n",
       "      <td>41</td>\n",
       "      <td>N OAK PARK AVE</td>\n",
       "      <td>T002</td>\n",
       "      <td>4100  N OAK PARK AVE, Chicago, IL</td>\n",
       "      <td>41.95469</td>\n",
       "      <td>-87.800991</td>\n",
       "      <td>9</td>\n",
       "      <td>1</td>\n",
       "      <td>0</td>\n",
       "    </tr>\n",
       "  </tbody>\n",
       "</table>\n",
       "</div>"
      ],
      "text/plain": [
       "         Date                                            Address  \\\n",
       "0  2007-05-29  4100 North Oak Park Avenue, Chicago, IL 60634,...   \n",
       "1  2007-05-29  4100 North Oak Park Avenue, Chicago, IL 60634,...   \n",
       "\n",
       "                  Species  Block           Street  Trap  \\\n",
       "0  CULEX PIPIENS/RESTUANS     41   N OAK PARK AVE  T002   \n",
       "1          CULEX RESTUANS     41   N OAK PARK AVE  T002   \n",
       "\n",
       "              AddressNumberAndStreet  Latitude  Longitude  AddressAccuracy  \\\n",
       "0  4100  N OAK PARK AVE, Chicago, IL  41.95469 -87.800991                9   \n",
       "1  4100  N OAK PARK AVE, Chicago, IL  41.95469 -87.800991                9   \n",
       "\n",
       "   NumMosquitos  WnvPresent  \n",
       "0             1           0  \n",
       "1             1           0  "
      ]
     },
     "execution_count": 2,
     "metadata": {},
     "output_type": "execute_result"
    }
   ],
   "source": [
    "train = pd.read_csv('../assets/train.csv/train.csv')\n",
    "train.head(2)"
   ]
  },
  {
   "cell_type": "code",
   "execution_count": 3,
   "metadata": {},
   "outputs": [
    {
     "data": {
      "text/html": [
       "<div>\n",
       "<style scoped>\n",
       "    .dataframe tbody tr th:only-of-type {\n",
       "        vertical-align: middle;\n",
       "    }\n",
       "\n",
       "    .dataframe tbody tr th {\n",
       "        vertical-align: top;\n",
       "    }\n",
       "\n",
       "    .dataframe thead th {\n",
       "        text-align: right;\n",
       "    }\n",
       "</style>\n",
       "<table border=\"1\" class=\"dataframe\">\n",
       "  <thead>\n",
       "    <tr style=\"text-align: right;\">\n",
       "      <th></th>\n",
       "      <th>Latitude</th>\n",
       "      <th>Longitude</th>\n",
       "      <th>lat_long</th>\n",
       "    </tr>\n",
       "  </thead>\n",
       "  <tbody>\n",
       "    <tr>\n",
       "      <th>0</th>\n",
       "      <td>41.981433</td>\n",
       "      <td>-87.787777</td>\n",
       "      <td>(41.9814333333333, -87.7877766666667)</td>\n",
       "    </tr>\n",
       "    <tr>\n",
       "      <th>1</th>\n",
       "      <td>41.980998</td>\n",
       "      <td>-87.787778</td>\n",
       "      <td>(41.9809983333333, -87.7877783333333)</td>\n",
       "    </tr>\n",
       "    <tr>\n",
       "      <th>2</th>\n",
       "      <td>41.980560</td>\n",
       "      <td>-87.787762</td>\n",
       "      <td>(41.98056, -87.7877616666667)</td>\n",
       "    </tr>\n",
       "    <tr>\n",
       "      <th>3</th>\n",
       "      <td>41.980198</td>\n",
       "      <td>-87.787758</td>\n",
       "      <td>(41.9801983333333, -87.7877583333333)</td>\n",
       "    </tr>\n",
       "    <tr>\n",
       "      <th>4</th>\n",
       "      <td>41.979752</td>\n",
       "      <td>-87.787765</td>\n",
       "      <td>(41.9797516666667, -87.787765)</td>\n",
       "    </tr>\n",
       "  </tbody>\n",
       "</table>\n",
       "</div>"
      ],
      "text/plain": [
       "    Latitude  Longitude                               lat_long\n",
       "0  41.981433 -87.787777  (41.9814333333333, -87.7877766666667)\n",
       "1  41.980998 -87.787778  (41.9809983333333, -87.7877783333333)\n",
       "2  41.980560 -87.787762          (41.98056, -87.7877616666667)\n",
       "3  41.980198 -87.787758  (41.9801983333333, -87.7877583333333)\n",
       "4  41.979752 -87.787765         (41.9797516666667, -87.787765)"
      ]
     },
     "execution_count": 3,
     "metadata": {},
     "output_type": "execute_result"
    }
   ],
   "source": [
    "spray = pd.read_csv('../assets/processed_data/spray_processed.csv')\n",
    "spray['lat_long'] = list(zip(spray['Latitude'], spray['Longitude'])) # to compute distances later\n",
    "spray.head()"
   ]
  },
  {
   "cell_type": "code",
   "execution_count": 4,
   "metadata": {},
   "outputs": [
    {
     "name": "stdout",
     "output_type": "stream",
     "text": [
      "<class 'pandas.core.frame.DataFrame'>\n",
      "RangeIndex: 14199 entries, 0 to 14198\n",
      "Data columns (total 3 columns):\n",
      " #   Column     Non-Null Count  Dtype  \n",
      "---  ------     --------------  -----  \n",
      " 0   Latitude   14199 non-null  float64\n",
      " 1   Longitude  14199 non-null  float64\n",
      " 2   lat_long   14199 non-null  object \n",
      "dtypes: float64(2), object(1)\n",
      "memory usage: 332.9+ KB\n"
     ]
    }
   ],
   "source": [
    "spray.info()"
   ]
  },
  {
   "cell_type": "code",
   "execution_count": 5,
   "metadata": {},
   "outputs": [
    {
     "data": {
      "text/html": [
       "<div>\n",
       "<style scoped>\n",
       "    .dataframe tbody tr th:only-of-type {\n",
       "        vertical-align: middle;\n",
       "    }\n",
       "\n",
       "    .dataframe tbody tr th {\n",
       "        vertical-align: top;\n",
       "    }\n",
       "\n",
       "    .dataframe thead th {\n",
       "        text-align: right;\n",
       "    }\n",
       "</style>\n",
       "<table border=\"1\" class=\"dataframe\">\n",
       "  <thead>\n",
       "    <tr style=\"text-align: right;\">\n",
       "      <th></th>\n",
       "      <th>Date</th>\n",
       "      <th>Tavg</th>\n",
       "      <th>DewPoint</th>\n",
       "      <th>WetBulb</th>\n",
       "      <th>PrecipTotal</th>\n",
       "      <th>AvgSpeed</th>\n",
       "    </tr>\n",
       "  </thead>\n",
       "  <tbody>\n",
       "    <tr>\n",
       "      <th>0</th>\n",
       "      <td>2007-05-01</td>\n",
       "      <td>67.50</td>\n",
       "      <td>51.0</td>\n",
       "      <td>56.5</td>\n",
       "      <td>0.0</td>\n",
       "      <td>9.40</td>\n",
       "    </tr>\n",
       "    <tr>\n",
       "      <th>1</th>\n",
       "      <td>2007-05-02</td>\n",
       "      <td>51.50</td>\n",
       "      <td>42.0</td>\n",
       "      <td>47.0</td>\n",
       "      <td>0.0</td>\n",
       "      <td>13.40</td>\n",
       "    </tr>\n",
       "    <tr>\n",
       "      <th>2</th>\n",
       "      <td>2007-05-03</td>\n",
       "      <td>57.00</td>\n",
       "      <td>40.0</td>\n",
       "      <td>49.0</td>\n",
       "      <td>0.0</td>\n",
       "      <td>12.55</td>\n",
       "    </tr>\n",
       "    <tr>\n",
       "      <th>3</th>\n",
       "      <td>2007-05-04</td>\n",
       "      <td>61.25</td>\n",
       "      <td>41.5</td>\n",
       "      <td>50.0</td>\n",
       "      <td>0.0</td>\n",
       "      <td>10.60</td>\n",
       "    </tr>\n",
       "    <tr>\n",
       "      <th>4</th>\n",
       "      <td>2007-05-05</td>\n",
       "      <td>60.00</td>\n",
       "      <td>38.5</td>\n",
       "      <td>49.5</td>\n",
       "      <td>0.0</td>\n",
       "      <td>11.75</td>\n",
       "    </tr>\n",
       "  </tbody>\n",
       "</table>\n",
       "</div>"
      ],
      "text/plain": [
       "        Date   Tavg  DewPoint  WetBulb  PrecipTotal  AvgSpeed\n",
       "0 2007-05-01  67.50      51.0     56.5          0.0      9.40\n",
       "1 2007-05-02  51.50      42.0     47.0          0.0     13.40\n",
       "2 2007-05-03  57.00      40.0     49.0          0.0     12.55\n",
       "3 2007-05-04  61.25      41.5     50.0          0.0     10.60\n",
       "4 2007-05-05  60.00      38.5     49.5          0.0     11.75"
      ]
     },
     "execution_count": 5,
     "metadata": {},
     "output_type": "execute_result"
    }
   ],
   "source": [
    "weather = pd.read_csv('../assets/processed_data/weather_processed.csv')\n",
    "weather['Date'] = pd.to_datetime(weather['Date'])\n",
    "weather.head()"
   ]
  },
  {
   "cell_type": "code",
   "execution_count": 6,
   "metadata": {},
   "outputs": [
    {
     "name": "stdout",
     "output_type": "stream",
     "text": [
      "<class 'pandas.core.frame.DataFrame'>\n",
      "RangeIndex: 1472 entries, 0 to 1471\n",
      "Data columns (total 6 columns):\n",
      " #   Column       Non-Null Count  Dtype         \n",
      "---  ------       --------------  -----         \n",
      " 0   Date         1472 non-null   datetime64[ns]\n",
      " 1   Tavg         1472 non-null   float64       \n",
      " 2   DewPoint     1472 non-null   float64       \n",
      " 3   WetBulb      1472 non-null   float64       \n",
      " 4   PrecipTotal  1472 non-null   float64       \n",
      " 5   AvgSpeed     1472 non-null   float64       \n",
      "dtypes: datetime64[ns](1), float64(5)\n",
      "memory usage: 69.1 KB\n"
     ]
    }
   ],
   "source": [
    "weather.info()"
   ]
  },
  {
   "cell_type": "code",
   "execution_count": 7,
   "metadata": {},
   "outputs": [
    {
     "name": "stdout",
     "output_type": "stream",
     "text": [
      "<class 'pandas.core.frame.DataFrame'>\n",
      "RangeIndex: 343 entries, 0 to 342\n",
      "Data columns (total 3 columns):\n",
      " #   Column       Non-Null Count  Dtype \n",
      "---  ------       --------------  ----- \n",
      " 0   year         343 non-null    int64 \n",
      " 1   Address      343 non-null    object\n",
      " 2   wnv_density  343 non-null    int64 \n",
      "dtypes: int64(2), object(1)\n",
      "memory usage: 8.2+ KB\n"
     ]
    }
   ],
   "source": [
    "wnv_density = pd.read_csv('../assets/processed_data/wnv_density_processed.csv')\n",
    "wnv_density.columns = ['year', 'Address', 'wnv_density']\n",
    "wnv_density.info()"
   ]
  },
  {
   "cell_type": "markdown",
   "metadata": {},
   "source": [
    "# Engineer Features"
   ]
  },
  {
   "cell_type": "code",
   "execution_count": 8,
   "metadata": {},
   "outputs": [],
   "source": [
    "train['Date'] = pd.to_datetime(train['Date'])\n",
    "train['month'] = train['Date'].dt.month\n",
    "train['year'] = train['Date'].dt.year"
   ]
  },
  {
   "cell_type": "code",
   "execution_count": 9,
   "metadata": {},
   "outputs": [
    {
     "name": "stdout",
     "output_type": "stream",
     "text": [
      "<class 'pandas.core.frame.DataFrame'>\n",
      "Int64Index: 10506 entries, 0 to 10505\n",
      "Data columns (total 15 columns):\n",
      " #   Column                  Non-Null Count  Dtype         \n",
      "---  ------                  --------------  -----         \n",
      " 0   Date                    10506 non-null  datetime64[ns]\n",
      " 1   Address                 10506 non-null  object        \n",
      " 2   Species                 10506 non-null  object        \n",
      " 3   Block                   10506 non-null  int64         \n",
      " 4   Street                  10506 non-null  object        \n",
      " 5   Trap                    10506 non-null  object        \n",
      " 6   AddressNumberAndStreet  10506 non-null  object        \n",
      " 7   Latitude                10506 non-null  float64       \n",
      " 8   Longitude               10506 non-null  float64       \n",
      " 9   AddressAccuracy         10506 non-null  int64         \n",
      " 10  NumMosquitos            10506 non-null  int64         \n",
      " 11  WnvPresent              10506 non-null  int64         \n",
      " 12  month                   10506 non-null  int64         \n",
      " 13  year                    10506 non-null  int64         \n",
      " 14  wnv_density             10506 non-null  int64         \n",
      "dtypes: datetime64[ns](1), float64(2), int64(7), object(5)\n",
      "memory usage: 1.3+ MB\n"
     ]
    }
   ],
   "source": [
    "# Merge in wnv density data on year and trap address\n",
    "train_wnv = train.merge(wnv_density, how='left', left_on = ['year', 'Address'], right_on = ['year', 'Address'])\n",
    "train_wnv.info()"
   ]
  },
  {
   "cell_type": "code",
   "execution_count": 10,
   "metadata": {},
   "outputs": [],
   "source": [
    "# define function to check whether two lat-long coordinates are within 50 metres. Output 1 if so, else 0\n",
    "\n",
    "def check_within_50m(coord):\n",
    "    \n",
    "    for spray_coord in spray['lat_long']:\n",
    "        if geodesic(coord, spray_coord).meters <= 50:\n",
    "            return 1\n",
    "    return 0"
   ]
  },
  {
   "cell_type": "code",
   "execution_count": 11,
   "metadata": {},
   "outputs": [],
   "source": [
    "# To reduce computing time, we first take all distinct lat-long combinations to compute distances, since there are many repeat locations in the train dataset\n",
    "\n",
    "train_latlong = train[['Latitude', 'Longitude']].drop_duplicates(subset=['Latitude', 'Longitude']).reset_index(drop=True)\n",
    "train_latlong['lat_long'] = list(zip(train_latlong['Latitude'], train_latlong['Longitude']))"
   ]
  },
  {
   "cell_type": "code",
   "execution_count": 12,
   "metadata": {},
   "outputs": [
    {
     "data": {
      "text/html": [
       "<div>\n",
       "<style scoped>\n",
       "    .dataframe tbody tr th:only-of-type {\n",
       "        vertical-align: middle;\n",
       "    }\n",
       "\n",
       "    .dataframe tbody tr th {\n",
       "        vertical-align: top;\n",
       "    }\n",
       "\n",
       "    .dataframe thead th {\n",
       "        text-align: right;\n",
       "    }\n",
       "</style>\n",
       "<table border=\"1\" class=\"dataframe\">\n",
       "  <thead>\n",
       "    <tr style=\"text-align: right;\">\n",
       "      <th></th>\n",
       "      <th>Latitude</th>\n",
       "      <th>Longitude</th>\n",
       "      <th>lat_long</th>\n",
       "    </tr>\n",
       "  </thead>\n",
       "  <tbody>\n",
       "    <tr>\n",
       "      <th>0</th>\n",
       "      <td>41.95469</td>\n",
       "      <td>-87.800991</td>\n",
       "      <td>(41.95469, -87.800991)</td>\n",
       "    </tr>\n",
       "  </tbody>\n",
       "</table>\n",
       "</div>"
      ],
      "text/plain": [
       "   Latitude  Longitude                lat_long\n",
       "0  41.95469 -87.800991  (41.95469, -87.800991)"
      ]
     },
     "execution_count": 12,
     "metadata": {},
     "output_type": "execute_result"
    }
   ],
   "source": [
    "train_latlong.head(1)"
   ]
  },
  {
   "cell_type": "code",
   "execution_count": 13,
   "metadata": {},
   "outputs": [],
   "source": [
    "# Takes awhile to run\n",
    "train_latlong['spray_indicator'] = train_latlong['lat_long'].apply(check_within_50m)"
   ]
  },
  {
   "cell_type": "code",
   "execution_count": 14,
   "metadata": {},
   "outputs": [
    {
     "data": {
      "text/plain": [
       "0    120\n",
       "1     18\n",
       "Name: spray_indicator, dtype: int64"
      ]
     },
     "execution_count": 14,
     "metadata": {},
     "output_type": "execute_result"
    }
   ],
   "source": [
    "train_latlong.spray_indicator.value_counts()"
   ]
  },
  {
   "cell_type": "markdown",
   "metadata": {},
   "source": [
    "There are 18 locations earmarked for sprays"
   ]
  },
  {
   "cell_type": "code",
   "execution_count": 15,
   "metadata": {},
   "outputs": [
    {
     "name": "stdout",
     "output_type": "stream",
     "text": [
      "<class 'pandas.core.frame.DataFrame'>\n",
      "Int64Index: 10506 entries, 0 to 10505\n",
      "Data columns (total 17 columns):\n",
      " #   Column                  Non-Null Count  Dtype         \n",
      "---  ------                  --------------  -----         \n",
      " 0   Date                    10506 non-null  datetime64[ns]\n",
      " 1   Address                 10506 non-null  object        \n",
      " 2   Species                 10506 non-null  object        \n",
      " 3   Block                   10506 non-null  int64         \n",
      " 4   Street                  10506 non-null  object        \n",
      " 5   Trap                    10506 non-null  object        \n",
      " 6   AddressNumberAndStreet  10506 non-null  object        \n",
      " 7   Latitude                10506 non-null  float64       \n",
      " 8   Longitude               10506 non-null  float64       \n",
      " 9   AddressAccuracy         10506 non-null  int64         \n",
      " 10  NumMosquitos            10506 non-null  int64         \n",
      " 11  WnvPresent              10506 non-null  int64         \n",
      " 12  month                   10506 non-null  int64         \n",
      " 13  year                    10506 non-null  int64         \n",
      " 14  wnv_density             10506 non-null  int64         \n",
      " 15  lat_long                10506 non-null  object        \n",
      " 16  spray_indicator         10506 non-null  int64         \n",
      "dtypes: datetime64[ns](1), float64(2), int64(8), object(6)\n",
      "memory usage: 1.4+ MB\n"
     ]
    }
   ],
   "source": [
    "train_wnv_spray = train_wnv.merge(train_latlong, how='left', left_on = ['Latitude', 'Longitude'], right_on = ['Latitude', 'Longitude'])\n",
    "train_wnv_spray.info()"
   ]
  },
  {
   "cell_type": "code",
   "execution_count": 16,
   "metadata": {},
   "outputs": [],
   "source": [
    "def get_weather(ls_date):\n",
    "    '''\n",
    "    This function takes in a list of dates and returns the preceding 30-day averages of 5 weather indicators: temperature, dew point, wetbulb,\n",
    "    precipitation (total instead of average), wind speed.\n",
    "    \n",
    "    Returns one list for each indicator.\n",
    "    '''\n",
    "    temp_list = []\n",
    "    dewpt_list = []\n",
    "    wetbulb_list = []\n",
    "    precip_list = []\n",
    "    windspeed_list = []\n",
    "    \n",
    "    for date in ls_date:\n",
    "        date = pd.to_datetime(date)\n",
    "        weather_subset = weather[(weather['Date'] <= date + pd.Timedelta(days=-1)) & (weather['Date'] >= date + pd.Timedelta(days=-31))]\n",
    "        \n",
    "        temp_list.append(weather_subset['Tavg'].mean())\n",
    "        dewpt_list.append(weather_subset['DewPoint'].mean())\n",
    "        wetbulb_list.append(weather_subset['WetBulb'].mean())\n",
    "        precip_list.append(weather_subset['PrecipTotal'].sum())\n",
    "        windspeed_list.append(weather_subset['AvgSpeed'].mean())\n",
    "\n",
    "    return temp_list, dewpt_list, wetbulb_list, precip_list, windspeed_list"
   ]
  },
  {
   "cell_type": "code",
   "execution_count": 17,
   "metadata": {
    "scrolled": true,
    "tags": []
   },
   "outputs": [],
   "source": [
    "avg_temp, avg_dewpt, avg_wetbulb, tot_precip, avg_windspeed = get_weather(train_wnv_spray['Date'])"
   ]
  },
  {
   "cell_type": "code",
   "execution_count": 18,
   "metadata": {},
   "outputs": [],
   "source": [
    "train_wnv_spray['avg_temp'] = avg_temp\n",
    "train_wnv_spray['avg_dewpt'] = avg_dewpt\n",
    "train_wnv_spray['avg_wetbulb'] = avg_wetbulb\n",
    "train_wnv_spray['tot_precip'] = tot_precip\n",
    "train_wnv_spray['avg_windspeed'] = avg_windspeed"
   ]
  },
  {
   "cell_type": "code",
   "execution_count": 19,
   "metadata": {},
   "outputs": [
    {
     "name": "stdout",
     "output_type": "stream",
     "text": [
      "<class 'pandas.core.frame.DataFrame'>\n",
      "Int64Index: 10506 entries, 0 to 10505\n",
      "Data columns (total 22 columns):\n",
      " #   Column                  Non-Null Count  Dtype         \n",
      "---  ------                  --------------  -----         \n",
      " 0   Date                    10506 non-null  datetime64[ns]\n",
      " 1   Address                 10506 non-null  object        \n",
      " 2   Species                 10506 non-null  object        \n",
      " 3   Block                   10506 non-null  int64         \n",
      " 4   Street                  10506 non-null  object        \n",
      " 5   Trap                    10506 non-null  object        \n",
      " 6   AddressNumberAndStreet  10506 non-null  object        \n",
      " 7   Latitude                10506 non-null  float64       \n",
      " 8   Longitude               10506 non-null  float64       \n",
      " 9   AddressAccuracy         10506 non-null  int64         \n",
      " 10  NumMosquitos            10506 non-null  int64         \n",
      " 11  WnvPresent              10506 non-null  int64         \n",
      " 12  month                   10506 non-null  int64         \n",
      " 13  year                    10506 non-null  int64         \n",
      " 14  wnv_density             10506 non-null  int64         \n",
      " 15  lat_long                10506 non-null  object        \n",
      " 16  spray_indicator         10506 non-null  int64         \n",
      " 17  avg_temp                10506 non-null  float64       \n",
      " 18  avg_dewpt               10506 non-null  float64       \n",
      " 19  avg_wetbulb             10506 non-null  float64       \n",
      " 20  tot_precip              10506 non-null  float64       \n",
      " 21  avg_windspeed           10506 non-null  float64       \n",
      "dtypes: datetime64[ns](1), float64(7), int64(8), object(6)\n",
      "memory usage: 1.8+ MB\n"
     ]
    }
   ],
   "source": [
    "train_wnv_spray.info()"
   ]
  },
  {
   "cell_type": "code",
   "execution_count": 20,
   "metadata": {},
   "outputs": [
    {
     "data": {
      "text/html": [
       "<div>\n",
       "<style scoped>\n",
       "    .dataframe tbody tr th:only-of-type {\n",
       "        vertical-align: middle;\n",
       "    }\n",
       "\n",
       "    .dataframe tbody tr th {\n",
       "        vertical-align: top;\n",
       "    }\n",
       "\n",
       "    .dataframe thead th {\n",
       "        text-align: right;\n",
       "    }\n",
       "</style>\n",
       "<table border=\"1\" class=\"dataframe\">\n",
       "  <thead>\n",
       "    <tr style=\"text-align: right;\">\n",
       "      <th></th>\n",
       "      <th>Date</th>\n",
       "      <th>Address</th>\n",
       "      <th>Species</th>\n",
       "      <th>Block</th>\n",
       "      <th>Street</th>\n",
       "      <th>Trap</th>\n",
       "      <th>AddressNumberAndStreet</th>\n",
       "      <th>Latitude</th>\n",
       "      <th>Longitude</th>\n",
       "      <th>AddressAccuracy</th>\n",
       "      <th>NumMosquitos</th>\n",
       "      <th>WnvPresent</th>\n",
       "      <th>month</th>\n",
       "      <th>year</th>\n",
       "      <th>wnv_density</th>\n",
       "      <th>lat_long</th>\n",
       "      <th>spray_indicator</th>\n",
       "      <th>avg_temp</th>\n",
       "      <th>avg_dewpt</th>\n",
       "      <th>avg_wetbulb</th>\n",
       "      <th>tot_precip</th>\n",
       "      <th>avg_windspeed</th>\n",
       "    </tr>\n",
       "  </thead>\n",
       "  <tbody>\n",
       "    <tr>\n",
       "      <th>0</th>\n",
       "      <td>2007-05-29</td>\n",
       "      <td>4100 North Oak Park Avenue, Chicago, IL 60634,...</td>\n",
       "      <td>CULEX PIPIENS/RESTUANS</td>\n",
       "      <td>41</td>\n",
       "      <td>N OAK PARK AVE</td>\n",
       "      <td>T002</td>\n",
       "      <td>4100  N OAK PARK AVE, Chicago, IL</td>\n",
       "      <td>41.954690</td>\n",
       "      <td>-87.800991</td>\n",
       "      <td>9</td>\n",
       "      <td>1</td>\n",
       "      <td>0</td>\n",
       "      <td>5</td>\n",
       "      <td>2007</td>\n",
       "      <td>8</td>\n",
       "      <td>(41.95469, -87.800991)</td>\n",
       "      <td>0</td>\n",
       "      <td>63.4375</td>\n",
       "      <td>44.375</td>\n",
       "      <td>53.410714</td>\n",
       "      <td>1.52</td>\n",
       "      <td>10.2875</td>\n",
       "    </tr>\n",
       "    <tr>\n",
       "      <th>1</th>\n",
       "      <td>2007-05-29</td>\n",
       "      <td>4100 North Oak Park Avenue, Chicago, IL 60634,...</td>\n",
       "      <td>CULEX RESTUANS</td>\n",
       "      <td>41</td>\n",
       "      <td>N OAK PARK AVE</td>\n",
       "      <td>T002</td>\n",
       "      <td>4100  N OAK PARK AVE, Chicago, IL</td>\n",
       "      <td>41.954690</td>\n",
       "      <td>-87.800991</td>\n",
       "      <td>9</td>\n",
       "      <td>1</td>\n",
       "      <td>0</td>\n",
       "      <td>5</td>\n",
       "      <td>2007</td>\n",
       "      <td>8</td>\n",
       "      <td>(41.95469, -87.800991)</td>\n",
       "      <td>0</td>\n",
       "      <td>63.4375</td>\n",
       "      <td>44.375</td>\n",
       "      <td>53.410714</td>\n",
       "      <td>1.52</td>\n",
       "      <td>10.2875</td>\n",
       "    </tr>\n",
       "    <tr>\n",
       "      <th>2</th>\n",
       "      <td>2007-05-29</td>\n",
       "      <td>6200 North Mandell Avenue, Chicago, IL 60646, USA</td>\n",
       "      <td>CULEX RESTUANS</td>\n",
       "      <td>62</td>\n",
       "      <td>N MANDELL AVE</td>\n",
       "      <td>T007</td>\n",
       "      <td>6200  N MANDELL AVE, Chicago, IL</td>\n",
       "      <td>41.994991</td>\n",
       "      <td>-87.769279</td>\n",
       "      <td>9</td>\n",
       "      <td>1</td>\n",
       "      <td>0</td>\n",
       "      <td>5</td>\n",
       "      <td>2007</td>\n",
       "      <td>0</td>\n",
       "      <td>(41.994991, -87.769279)</td>\n",
       "      <td>0</td>\n",
       "      <td>63.4375</td>\n",
       "      <td>44.375</td>\n",
       "      <td>53.410714</td>\n",
       "      <td>1.52</td>\n",
       "      <td>10.2875</td>\n",
       "    </tr>\n",
       "  </tbody>\n",
       "</table>\n",
       "</div>"
      ],
      "text/plain": [
       "        Date                                            Address  \\\n",
       "0 2007-05-29  4100 North Oak Park Avenue, Chicago, IL 60634,...   \n",
       "1 2007-05-29  4100 North Oak Park Avenue, Chicago, IL 60634,...   \n",
       "2 2007-05-29  6200 North Mandell Avenue, Chicago, IL 60646, USA   \n",
       "\n",
       "                  Species  Block           Street  Trap  \\\n",
       "0  CULEX PIPIENS/RESTUANS     41   N OAK PARK AVE  T002   \n",
       "1          CULEX RESTUANS     41   N OAK PARK AVE  T002   \n",
       "2          CULEX RESTUANS     62    N MANDELL AVE  T007   \n",
       "\n",
       "              AddressNumberAndStreet   Latitude  Longitude  AddressAccuracy  \\\n",
       "0  4100  N OAK PARK AVE, Chicago, IL  41.954690 -87.800991                9   \n",
       "1  4100  N OAK PARK AVE, Chicago, IL  41.954690 -87.800991                9   \n",
       "2   6200  N MANDELL AVE, Chicago, IL  41.994991 -87.769279                9   \n",
       "\n",
       "   NumMosquitos  WnvPresent  month  year  wnv_density  \\\n",
       "0             1           0      5  2007            8   \n",
       "1             1           0      5  2007            8   \n",
       "2             1           0      5  2007            0   \n",
       "\n",
       "                  lat_long  spray_indicator  avg_temp  avg_dewpt  avg_wetbulb  \\\n",
       "0   (41.95469, -87.800991)                0   63.4375     44.375    53.410714   \n",
       "1   (41.95469, -87.800991)                0   63.4375     44.375    53.410714   \n",
       "2  (41.994991, -87.769279)                0   63.4375     44.375    53.410714   \n",
       "\n",
       "   tot_precip  avg_windspeed  \n",
       "0        1.52        10.2875  \n",
       "1        1.52        10.2875  \n",
       "2        1.52        10.2875  "
      ]
     },
     "execution_count": 20,
     "metadata": {},
     "output_type": "execute_result"
    }
   ],
   "source": [
    "train_wnv_spray.head(3)"
   ]
  },
  {
   "cell_type": "code",
   "execution_count": 21,
   "metadata": {},
   "outputs": [
    {
     "data": {
      "text/plain": [
       "(10506, 10)"
      ]
     },
     "execution_count": 21,
     "metadata": {},
     "output_type": "execute_result"
    }
   ],
   "source": [
    "# Retain final variables\n",
    "\n",
    "train_final = train_wnv_spray[['Species', 'month', 'wnv_density', 'spray_indicator', 'avg_temp', 'avg_dewpt', 'avg_wetbulb',\n",
    "       'tot_precip', 'avg_windspeed', 'WnvPresent']]\n",
    "train_final.shape"
   ]
  },
  {
   "cell_type": "code",
   "execution_count": 22,
   "metadata": {},
   "outputs": [
    {
     "data": {
      "text/html": [
       "<div>\n",
       "<style scoped>\n",
       "    .dataframe tbody tr th:only-of-type {\n",
       "        vertical-align: middle;\n",
       "    }\n",
       "\n",
       "    .dataframe tbody tr th {\n",
       "        vertical-align: top;\n",
       "    }\n",
       "\n",
       "    .dataframe thead th {\n",
       "        text-align: right;\n",
       "    }\n",
       "</style>\n",
       "<table border=\"1\" class=\"dataframe\">\n",
       "  <thead>\n",
       "    <tr style=\"text-align: right;\">\n",
       "      <th></th>\n",
       "      <th>Species</th>\n",
       "      <th>month</th>\n",
       "      <th>wnv_density</th>\n",
       "      <th>spray_indicator</th>\n",
       "      <th>avg_temp</th>\n",
       "      <th>avg_dewpt</th>\n",
       "      <th>avg_wetbulb</th>\n",
       "      <th>tot_precip</th>\n",
       "      <th>avg_windspeed</th>\n",
       "      <th>WnvPresent</th>\n",
       "    </tr>\n",
       "  </thead>\n",
       "  <tbody>\n",
       "    <tr>\n",
       "      <th>0</th>\n",
       "      <td>CULEX PIPIENS/RESTUANS</td>\n",
       "      <td>5</td>\n",
       "      <td>8</td>\n",
       "      <td>0</td>\n",
       "      <td>63.4375</td>\n",
       "      <td>44.375</td>\n",
       "      <td>53.410714</td>\n",
       "      <td>1.52</td>\n",
       "      <td>10.2875</td>\n",
       "      <td>0</td>\n",
       "    </tr>\n",
       "    <tr>\n",
       "      <th>1</th>\n",
       "      <td>CULEX RESTUANS</td>\n",
       "      <td>5</td>\n",
       "      <td>8</td>\n",
       "      <td>0</td>\n",
       "      <td>63.4375</td>\n",
       "      <td>44.375</td>\n",
       "      <td>53.410714</td>\n",
       "      <td>1.52</td>\n",
       "      <td>10.2875</td>\n",
       "      <td>0</td>\n",
       "    </tr>\n",
       "    <tr>\n",
       "      <th>2</th>\n",
       "      <td>CULEX RESTUANS</td>\n",
       "      <td>5</td>\n",
       "      <td>0</td>\n",
       "      <td>0</td>\n",
       "      <td>63.4375</td>\n",
       "      <td>44.375</td>\n",
       "      <td>53.410714</td>\n",
       "      <td>1.52</td>\n",
       "      <td>10.2875</td>\n",
       "      <td>0</td>\n",
       "    </tr>\n",
       "    <tr>\n",
       "      <th>3</th>\n",
       "      <td>CULEX PIPIENS/RESTUANS</td>\n",
       "      <td>5</td>\n",
       "      <td>4</td>\n",
       "      <td>1</td>\n",
       "      <td>63.4375</td>\n",
       "      <td>44.375</td>\n",
       "      <td>53.410714</td>\n",
       "      <td>1.52</td>\n",
       "      <td>10.2875</td>\n",
       "      <td>0</td>\n",
       "    </tr>\n",
       "    <tr>\n",
       "      <th>4</th>\n",
       "      <td>CULEX RESTUANS</td>\n",
       "      <td>5</td>\n",
       "      <td>4</td>\n",
       "      <td>1</td>\n",
       "      <td>63.4375</td>\n",
       "      <td>44.375</td>\n",
       "      <td>53.410714</td>\n",
       "      <td>1.52</td>\n",
       "      <td>10.2875</td>\n",
       "      <td>0</td>\n",
       "    </tr>\n",
       "  </tbody>\n",
       "</table>\n",
       "</div>"
      ],
      "text/plain": [
       "                  Species  month  wnv_density  spray_indicator  avg_temp  \\\n",
       "0  CULEX PIPIENS/RESTUANS      5            8                0   63.4375   \n",
       "1          CULEX RESTUANS      5            8                0   63.4375   \n",
       "2          CULEX RESTUANS      5            0                0   63.4375   \n",
       "3  CULEX PIPIENS/RESTUANS      5            4                1   63.4375   \n",
       "4          CULEX RESTUANS      5            4                1   63.4375   \n",
       "\n",
       "   avg_dewpt  avg_wetbulb  tot_precip  avg_windspeed  WnvPresent  \n",
       "0     44.375    53.410714        1.52        10.2875           0  \n",
       "1     44.375    53.410714        1.52        10.2875           0  \n",
       "2     44.375    53.410714        1.52        10.2875           0  \n",
       "3     44.375    53.410714        1.52        10.2875           0  \n",
       "4     44.375    53.410714        1.52        10.2875           0  "
      ]
     },
     "execution_count": 22,
     "metadata": {},
     "output_type": "execute_result"
    }
   ],
   "source": [
    "train_final.head()"
   ]
  },
  {
   "cell_type": "code",
   "execution_count": 23,
   "metadata": {},
   "outputs": [],
   "source": [
    "train_final.to_csv('../assets/processed_data/train_processed.csv', index=False)"
   ]
  },
  {
   "cell_type": "code",
   "execution_count": null,
   "metadata": {},
   "outputs": [],
   "source": []
  },
  {
   "cell_type": "code",
   "execution_count": null,
   "metadata": {},
   "outputs": [],
   "source": []
  }
 ],
 "metadata": {
  "anaconda-cloud": {},
  "kernelspec": {
   "display_name": "Python 3 (ipykernel)",
   "language": "python",
   "name": "python3"
  },
  "language_info": {
   "codemirror_mode": {
    "name": "ipython",
    "version": 3
   },
   "file_extension": ".py",
   "mimetype": "text/x-python",
   "name": "python",
   "nbconvert_exporter": "python",
   "pygments_lexer": "ipython3",
   "version": "3.9.10"
  }
 },
 "nbformat": 4,
 "nbformat_minor": 4
}
